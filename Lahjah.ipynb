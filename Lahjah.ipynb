{
 "cells": [
  {
   "cell_type": "markdown",
   "metadata": {
    "id": "VTSAlDPB8mgu"
   },
   "source": [
    "# Arabic Dialect Identification system\n",
    "\n",
    "**Arabic dialect identification is the task of determining the dialect of a given Arabic text. This is a challenging task due to the high variability of Arabic dialects and the lack of large-scale datasets annotated with dialect information.**\n",
    "\n"
   ]
  },
  {
   "cell_type": "markdown",
   "metadata": {
    "id": "CmaVdmHN8mgw"
   },
   "source": [
    "# Import Libraries"
   ]
  },
  {
   "cell_type": "code",
   "execution_count": 2,
   "metadata": {
    "colab": {
     "base_uri": "https://localhost:8080/"
    },
    "id": "vqTPMPga83Qb",
    "outputId": "668d7ddf-3436-4020-e28f-4c9af43fdfaa"
   },
   "outputs": [
    {
     "name": "stdout",
     "output_type": "stream",
     "text": [
      "Collecting pyarabic\n",
      "  Downloading PyArabic-0.6.15-py3-none-any.whl (126 kB)\n",
      "\u001b[2K     \u001b[90m━━━━━━━━━━━━━━━━━━━━━━━━━━━━━━━━━━━━━\u001b[0m \u001b[32m126.4/126.4 kB\u001b[0m \u001b[31m683.4 kB/s\u001b[0m eta \u001b[36m0:00:00\u001b[0m\n",
      "\u001b[?25hRequirement already satisfied: six>=1.14.0 in /usr/local/lib/python3.10/dist-packages (from pyarabic) (1.16.0)\n",
      "Installing collected packages: pyarabic\n",
      "Successfully installed pyarabic-0.6.15\n"
     ]
    }
   ],
   "source": [
    "!pip install pyarabic"
   ]
  },
  {
   "cell_type": "code",
   "execution_count": 3,
   "metadata": {
    "colab": {
     "base_uri": "https://localhost:8080/"
    },
    "id": "Pqt6eSMuI93g",
    "outputId": "c2a672a9-8509-4ccc-f88a-290ac6ad43ef"
   },
   "outputs": [
    {
     "name": "stdout",
     "output_type": "stream",
     "text": [
      "Mounted at /content/drive/\n"
     ]
    }
   ],
   "source": [
    "from google.colab import drive\n",
    "drive.mount('/content/drive/')"
   ]
  },
  {
   "cell_type": "code",
   "execution_count": 1,
   "metadata": {
    "colab": {
     "base_uri": "https://localhost:8080/"
    },
    "id": "fiPynzin8mgx",
    "outputId": "af22cef3-6daa-406e-de0e-9cf149926e4a"
   },
   "outputs": [
    {
     "name": "stderr",
     "output_type": "stream",
     "text": [
      "[nltk_data] Downloading package wordnet to\n",
      "[nltk_data]     /Users/abdullahalturki/nltk_data...\n",
      "[nltk_data]   Package wordnet is already up-to-date!\n",
      "2023-09-21 19:51:29.364044: I tensorflow/core/platform/cpu_feature_guard.cc:182] This TensorFlow binary is optimized to use available CPU instructions in performance-critical operations.\n",
      "To enable the following instructions: AVX2 FMA, in other operations, rebuild TensorFlow with the appropriate compiler flags.\n"
     ]
    }
   ],
   "source": [
    "import pandas as pd\n",
    "import numpy as np\n",
    "import re\n",
    "import nltk\n",
    "\n",
    "nltk.download('wordnet')\n",
    "from nltk.stem.isri import ISRIStemmer\n",
    "from nltk.tokenize import word_tokenize\n",
    "from nltk.corpus import stopwords\n",
    "import pyarabic.araby as araby\n",
    "\n",
    "from sklearn.feature_extraction.text import TfidfVectorizer\n",
    "from sklearn.svm import LinearSVC\n",
    "from sklearn.metrics import accuracy_score\n",
    "from sklearn.model_selection import GridSearchCV\n",
    "import pandas as pd\n",
    "from tensorflow.keras.preprocessing.text import one_hot\n",
    "from tensorflow.keras.preprocessing.sequence import pad_sequences\n",
    "from tensorflow.keras.preprocessing.text import text_to_word_sequence\n",
    "\n",
    "from sklearn.metrics import f1_score\n",
    "from sklearn.preprocessing import label_binarize\n"
   ]
  },
  {
   "cell_type": "markdown",
   "metadata": {
    "id": "gXYcPczB8mgy"
   },
   "source": [
    "# Load Dataset"
   ]
  },
  {
   "cell_type": "markdown",
   "metadata": {
    "id": "I3b-b50t8mgy"
   },
   "source": [
    "**Messages Dataset:**\n",
    "\n",
    "Data contains tweets in different Arabic dialects."
   ]
  },
  {
   "cell_type": "code",
   "execution_count": 2,
   "metadata": {
    "colab": {
     "base_uri": "https://localhost:8080/",
     "height": 424
    },
    "id": "U9ZaY27X8mgz",
    "outputId": "18db103f-3098-4321-8be2-1708659b22d3"
   },
   "outputs": [
    {
     "data": {
      "text/html": [
       "<div>\n",
       "<style scoped>\n",
       "    .dataframe tbody tr th:only-of-type {\n",
       "        vertical-align: middle;\n",
       "    }\n",
       "\n",
       "    .dataframe tbody tr th {\n",
       "        vertical-align: top;\n",
       "    }\n",
       "\n",
       "    .dataframe thead th {\n",
       "        text-align: right;\n",
       "    }\n",
       "</style>\n",
       "<table border=\"1\" class=\"dataframe\">\n",
       "  <thead>\n",
       "    <tr style=\"text-align: right;\">\n",
       "      <th></th>\n",
       "      <th>id</th>\n",
       "      <th>tweets</th>\n",
       "    </tr>\n",
       "  </thead>\n",
       "  <tbody>\n",
       "    <tr>\n",
       "      <th>0</th>\n",
       "      <td>1.175358e+18</td>\n",
       "      <td>@Nw8ieJUwaCAAreT لكن بالنهاية .. ينتفض .. يغير .</td>\n",
       "    </tr>\n",
       "    <tr>\n",
       "      <th>1</th>\n",
       "      <td>1.175416e+18</td>\n",
       "      <td>@7zNqXP0yrODdRjK يعني هذا محسوب على البشر .. ح...</td>\n",
       "    </tr>\n",
       "    <tr>\n",
       "      <th>2</th>\n",
       "      <td>1.175450e+18</td>\n",
       "      <td>@KanaanRema مبين من كلامه خليجي</td>\n",
       "    </tr>\n",
       "    <tr>\n",
       "      <th>3</th>\n",
       "      <td>1.175471e+18</td>\n",
       "      <td>@HAIDER76128900 يسلملي مرورك وروحك الحلوه💐</td>\n",
       "    </tr>\n",
       "    <tr>\n",
       "      <th>4</th>\n",
       "      <td>1.175497e+18</td>\n",
       "      <td>@hmo2406 وين هل الغيبه  اخ محمد 🌸🌺</td>\n",
       "    </tr>\n",
       "    <tr>\n",
       "      <th>...</th>\n",
       "      <td>...</td>\n",
       "      <td>...</td>\n",
       "    </tr>\n",
       "    <tr>\n",
       "      <th>458656</th>\n",
       "      <td>1.057419e+18</td>\n",
       "      <td>@mycousinvinnyys @hanyamikhail1 متهيالي دي شكو...</td>\n",
       "    </tr>\n",
       "    <tr>\n",
       "      <th>458657</th>\n",
       "      <td>1.055620e+18</td>\n",
       "      <td>@MahmoudWaked7 @maganenoo في طريق مطروح مركز ب...</td>\n",
       "    </tr>\n",
       "    <tr>\n",
       "      <th>458658</th>\n",
       "      <td>NaN</td>\n",
       "      <td>0</td>\n",
       "    </tr>\n",
       "    <tr>\n",
       "      <th>458659</th>\n",
       "      <td>1.057419e+18</td>\n",
       "      <td>@mycousinvinnyys @hanyamikhail1 متهيالي دي شكو...</td>\n",
       "    </tr>\n",
       "    <tr>\n",
       "      <th>458660</th>\n",
       "      <td>1.055620e+18</td>\n",
       "      <td>@MahmoudWaked7 @maganenoo في طريق مطروح مركز ب...</td>\n",
       "    </tr>\n",
       "  </tbody>\n",
       "</table>\n",
       "<p>458661 rows × 2 columns</p>\n",
       "</div>"
      ],
      "text/plain": [
       "                  id                                             tweets\n",
       "0       1.175358e+18   @Nw8ieJUwaCAAreT لكن بالنهاية .. ينتفض .. يغير .\n",
       "1       1.175416e+18  @7zNqXP0yrODdRjK يعني هذا محسوب على البشر .. ح...\n",
       "2       1.175450e+18                    @KanaanRema مبين من كلامه خليجي\n",
       "3       1.175471e+18         @HAIDER76128900 يسلملي مرورك وروحك الحلوه💐\n",
       "4       1.175497e+18                 @hmo2406 وين هل الغيبه  اخ محمد 🌸🌺\n",
       "...              ...                                                ...\n",
       "458656  1.057419e+18  @mycousinvinnyys @hanyamikhail1 متهيالي دي شكو...\n",
       "458657  1.055620e+18  @MahmoudWaked7 @maganenoo في طريق مطروح مركز ب...\n",
       "458658           NaN                                                  0\n",
       "458659  1.057419e+18  @mycousinvinnyys @hanyamikhail1 متهيالي دي شكو...\n",
       "458660  1.055620e+18  @MahmoudWaked7 @maganenoo في طريق مطروح مركز ب...\n",
       "\n",
       "[458661 rows x 2 columns]"
      ]
     },
     "execution_count": 2,
     "metadata": {},
     "output_type": "execute_result"
    }
   ],
   "source": [
    "# Load messages dataset\n",
    "tweets = pd.read_csv('messages.csv',lineterminator='\\n')\n",
    "tweets.columns = ['id','tweets']\n",
    "tweets"
   ]
  },
  {
   "cell_type": "markdown",
   "metadata": {
    "id": "cEFQKaPD8mg0"
   },
   "source": [
    "**Dialect Dataset:**\n",
    "\n",
    "Data contains the dialect (labels) of the tweets."
   ]
  },
  {
   "cell_type": "code",
   "execution_count": 3,
   "metadata": {
    "colab": {
     "base_uri": "https://localhost:8080/",
     "height": 424
    },
    "id": "7vOq69W48mg0",
    "outputId": "b850ccef-b95c-4ae7-fbea-516947587a26"
   },
   "outputs": [
    {
     "data": {
      "text/html": [
       "<div>\n",
       "<style scoped>\n",
       "    .dataframe tbody tr th:only-of-type {\n",
       "        vertical-align: middle;\n",
       "    }\n",
       "\n",
       "    .dataframe tbody tr th {\n",
       "        vertical-align: top;\n",
       "    }\n",
       "\n",
       "    .dataframe thead th {\n",
       "        text-align: right;\n",
       "    }\n",
       "</style>\n",
       "<table border=\"1\" class=\"dataframe\">\n",
       "  <thead>\n",
       "    <tr style=\"text-align: right;\">\n",
       "      <th></th>\n",
       "      <th>id</th>\n",
       "      <th>dialect</th>\n",
       "    </tr>\n",
       "  </thead>\n",
       "  <tbody>\n",
       "    <tr>\n",
       "      <th>0</th>\n",
       "      <td>1175358310087892992</td>\n",
       "      <td>IQ</td>\n",
       "    </tr>\n",
       "    <tr>\n",
       "      <th>1</th>\n",
       "      <td>1175416117793349632</td>\n",
       "      <td>IQ</td>\n",
       "    </tr>\n",
       "    <tr>\n",
       "      <th>2</th>\n",
       "      <td>1175450108898565888</td>\n",
       "      <td>IQ</td>\n",
       "    </tr>\n",
       "    <tr>\n",
       "      <th>3</th>\n",
       "      <td>1175471073770573824</td>\n",
       "      <td>IQ</td>\n",
       "    </tr>\n",
       "    <tr>\n",
       "      <th>4</th>\n",
       "      <td>1175496913145217024</td>\n",
       "      <td>IQ</td>\n",
       "    </tr>\n",
       "    <tr>\n",
       "      <th>...</th>\n",
       "      <td>...</td>\n",
       "      <td>...</td>\n",
       "    </tr>\n",
       "    <tr>\n",
       "      <th>458192</th>\n",
       "      <td>1019484980282580992</td>\n",
       "      <td>BH</td>\n",
       "    </tr>\n",
       "    <tr>\n",
       "      <th>458193</th>\n",
       "      <td>1021083283709407232</td>\n",
       "      <td>BH</td>\n",
       "    </tr>\n",
       "    <tr>\n",
       "      <th>458194</th>\n",
       "      <td>1017477537889431552</td>\n",
       "      <td>BH</td>\n",
       "    </tr>\n",
       "    <tr>\n",
       "      <th>458195</th>\n",
       "      <td>1022430374696239232</td>\n",
       "      <td>BH</td>\n",
       "    </tr>\n",
       "    <tr>\n",
       "      <th>458196</th>\n",
       "      <td>1022409931029458944</td>\n",
       "      <td>BH</td>\n",
       "    </tr>\n",
       "  </tbody>\n",
       "</table>\n",
       "<p>458197 rows × 2 columns</p>\n",
       "</div>"
      ],
      "text/plain": [
       "                         id dialect\n",
       "0       1175358310087892992      IQ\n",
       "1       1175416117793349632      IQ\n",
       "2       1175450108898565888      IQ\n",
       "3       1175471073770573824      IQ\n",
       "4       1175496913145217024      IQ\n",
       "...                     ...     ...\n",
       "458192  1019484980282580992      BH\n",
       "458193  1021083283709407232      BH\n",
       "458194  1017477537889431552      BH\n",
       "458195  1022430374696239232      BH\n",
       "458196  1022409931029458944      BH\n",
       "\n",
       "[458197 rows x 2 columns]"
      ]
     },
     "execution_count": 3,
     "metadata": {},
     "output_type": "execute_result"
    }
   ],
   "source": [
    "# Load dialect dataset\n",
    "dialects = pd.read_csv('dialect_dataset.csv',lineterminator='\\n')\n",
    "dialects"
   ]
  },
  {
   "cell_type": "markdown",
   "metadata": {
    "id": "lOSAfqPE8mg1"
   },
   "source": [
    "# Data processing"
   ]
  },
  {
   "cell_type": "code",
   "execution_count": 4,
   "metadata": {
    "colab": {
     "base_uri": "https://localhost:8080/",
     "height": 206
    },
    "id": "ygzbdc3_8mg2",
    "outputId": "83bebbe0-1ba2-41a3-9aba-e539ee2042d3"
   },
   "outputs": [
    {
     "data": {
      "text/html": [
       "<div>\n",
       "<style scoped>\n",
       "    .dataframe tbody tr th:only-of-type {\n",
       "        vertical-align: middle;\n",
       "    }\n",
       "\n",
       "    .dataframe tbody tr th {\n",
       "        vertical-align: top;\n",
       "    }\n",
       "\n",
       "    .dataframe thead th {\n",
       "        text-align: right;\n",
       "    }\n",
       "</style>\n",
       "<table border=\"1\" class=\"dataframe\">\n",
       "  <thead>\n",
       "    <tr style=\"text-align: right;\">\n",
       "      <th></th>\n",
       "      <th>tweets</th>\n",
       "      <th>dialect</th>\n",
       "    </tr>\n",
       "  </thead>\n",
       "  <tbody>\n",
       "    <tr>\n",
       "      <th>0</th>\n",
       "      <td>@Nw8ieJUwaCAAreT لكن بالنهاية .. ينتفض .. يغير .</td>\n",
       "      <td>IQ</td>\n",
       "    </tr>\n",
       "    <tr>\n",
       "      <th>1</th>\n",
       "      <td>@7zNqXP0yrODdRjK يعني هذا محسوب على البشر .. ح...</td>\n",
       "      <td>IQ</td>\n",
       "    </tr>\n",
       "    <tr>\n",
       "      <th>2</th>\n",
       "      <td>@KanaanRema مبين من كلامه خليجي</td>\n",
       "      <td>IQ</td>\n",
       "    </tr>\n",
       "    <tr>\n",
       "      <th>3</th>\n",
       "      <td>@HAIDER76128900 يسلملي مرورك وروحك الحلوه💐</td>\n",
       "      <td>IQ</td>\n",
       "    </tr>\n",
       "    <tr>\n",
       "      <th>4</th>\n",
       "      <td>@hmo2406 وين هل الغيبه  اخ محمد 🌸🌺</td>\n",
       "      <td>IQ</td>\n",
       "    </tr>\n",
       "  </tbody>\n",
       "</table>\n",
       "</div>"
      ],
      "text/plain": [
       "                                              tweets dialect\n",
       "0   @Nw8ieJUwaCAAreT لكن بالنهاية .. ينتفض .. يغير .      IQ\n",
       "1  @7zNqXP0yrODdRjK يعني هذا محسوب على البشر .. ح...      IQ\n",
       "2                    @KanaanRema مبين من كلامه خليجي      IQ\n",
       "3         @HAIDER76128900 يسلملي مرورك وروحك الحلوه💐      IQ\n",
       "4                 @hmo2406 وين هل الغيبه  اخ محمد 🌸🌺      IQ"
      ]
     },
     "execution_count": 4,
     "metadata": {},
     "output_type": "execute_result"
    }
   ],
   "source": [
    "# Marge tweets and dialects datasets in one dataframe\n",
    "data = pd.merge(tweets, dialects, on='id')\n",
    "\n",
    "# drop the id columns\n",
    "data = data.drop(columns=['id'])\n",
    "\n",
    "data.head()\n",
    "# As shown here the data needs to be really cleaned and to exlude users accounts and other useless symbols and emojies"
   ]
  },
  {
   "cell_type": "code",
   "execution_count": 5,
   "metadata": {
    "colab": {
     "base_uri": "https://localhost:8080/",
     "height": 424
    },
    "id": "d_LtbcIcfUEJ",
    "outputId": "09f841ab-ab81-4ac6-bd53-be7c71f0b159"
   },
   "outputs": [
    {
     "data": {
      "text/html": [
       "<div>\n",
       "<style scoped>\n",
       "    .dataframe tbody tr th:only-of-type {\n",
       "        vertical-align: middle;\n",
       "    }\n",
       "\n",
       "    .dataframe tbody tr th {\n",
       "        vertical-align: top;\n",
       "    }\n",
       "\n",
       "    .dataframe thead th {\n",
       "        text-align: right;\n",
       "    }\n",
       "</style>\n",
       "<table border=\"1\" class=\"dataframe\">\n",
       "  <thead>\n",
       "    <tr style=\"text-align: right;\">\n",
       "      <th></th>\n",
       "      <th>tweets</th>\n",
       "      <th>dialect</th>\n",
       "    </tr>\n",
       "  </thead>\n",
       "  <tbody>\n",
       "    <tr>\n",
       "      <th>0</th>\n",
       "      <td>@Nw8ieJUwaCAAreT لكن بالنهاية .. ينتفض .. يغير .</td>\n",
       "      <td>IQ</td>\n",
       "    </tr>\n",
       "    <tr>\n",
       "      <th>1</th>\n",
       "      <td>@7zNqXP0yrODdRjK يعني هذا محسوب على البشر .. ح...</td>\n",
       "      <td>IQ</td>\n",
       "    </tr>\n",
       "    <tr>\n",
       "      <th>2</th>\n",
       "      <td>@KanaanRema مبين من كلامه خليجي</td>\n",
       "      <td>IQ</td>\n",
       "    </tr>\n",
       "    <tr>\n",
       "      <th>3</th>\n",
       "      <td>@HAIDER76128900 يسلملي مرورك وروحك الحلوه💐</td>\n",
       "      <td>IQ</td>\n",
       "    </tr>\n",
       "    <tr>\n",
       "      <th>4</th>\n",
       "      <td>@hmo2406 وين هل الغيبه  اخ محمد 🌸🌺</td>\n",
       "      <td>IQ</td>\n",
       "    </tr>\n",
       "    <tr>\n",
       "      <th>...</th>\n",
       "      <td>...</td>\n",
       "      <td>...</td>\n",
       "    </tr>\n",
       "    <tr>\n",
       "      <th>15492</th>\n",
       "      <td>@sally6337g انتخبي واحد بعمرة ممصلي اشرف من قا...</td>\n",
       "      <td>IQ</td>\n",
       "    </tr>\n",
       "    <tr>\n",
       "      <th>15493</th>\n",
       "      <td>@khatona_Ba فدوه خاتون .......ماعندج نعال لاست...</td>\n",
       "      <td>IQ</td>\n",
       "    </tr>\n",
       "    <tr>\n",
       "      <th>15494</th>\n",
       "      <td>#سد_اليسو حكومتنا حكومة ارشاد ونصح فقط مثل الم...</td>\n",
       "      <td>IQ</td>\n",
       "    </tr>\n",
       "    <tr>\n",
       "      <th>15495</th>\n",
       "      <td>@smih416 الانوثه اقوى سلاح دمار شامل للاعصاب</td>\n",
       "      <td>IQ</td>\n",
       "    </tr>\n",
       "    <tr>\n",
       "      <th>15496</th>\n",
       "      <td>@EdyCohen امكانياتي الماديه قليله انا من العرا...</td>\n",
       "      <td>IQ</td>\n",
       "    </tr>\n",
       "  </tbody>\n",
       "</table>\n",
       "<p>15497 rows × 2 columns</p>\n",
       "</div>"
      ],
      "text/plain": [
       "                                                  tweets dialect\n",
       "0       @Nw8ieJUwaCAAreT لكن بالنهاية .. ينتفض .. يغير .      IQ\n",
       "1      @7zNqXP0yrODdRjK يعني هذا محسوب على البشر .. ح...      IQ\n",
       "2                        @KanaanRema مبين من كلامه خليجي      IQ\n",
       "3             @HAIDER76128900 يسلملي مرورك وروحك الحلوه💐      IQ\n",
       "4                     @hmo2406 وين هل الغيبه  اخ محمد 🌸🌺      IQ\n",
       "...                                                  ...     ...\n",
       "15492  @sally6337g انتخبي واحد بعمرة ممصلي اشرف من قا...      IQ\n",
       "15493  @khatona_Ba فدوه خاتون .......ماعندج نعال لاست...      IQ\n",
       "15494  #سد_اليسو حكومتنا حكومة ارشاد ونصح فقط مثل الم...      IQ\n",
       "15495       @smih416 الانوثه اقوى سلاح دمار شامل للاعصاب      IQ\n",
       "15496  @EdyCohen امكانياتي الماديه قليله انا من العرا...      IQ\n",
       "\n",
       "[15497 rows x 2 columns]"
      ]
     },
     "execution_count": 5,
     "metadata": {},
     "output_type": "execute_result"
    }
   ],
   "source": [
    "data[data['dialect'] == 'IQ']"
   ]
  },
  {
   "cell_type": "markdown",
   "metadata": {
    "id": "fiBsV18_8mg2"
   },
   "source": [
    "**Dialect names**"
   ]
  },
  {
   "cell_type": "code",
   "execution_count": 6,
   "metadata": {
    "colab": {
     "base_uri": "https://localhost:8080/"
    },
    "id": "hgUb-S4d8mg3",
    "outputId": "fe3fc7d6-1860-4a6f-c828-619a736b824f"
   },
   "outputs": [
    {
     "name": "stdout",
     "output_type": "stream",
     "text": [
      "['IQ' 'LY' 'QA' 'PL' 'SY' 'TN' 'JO' 'MA' 'SA' 'YE' 'DZ' 'EG' 'LB' 'KW'\n",
      " 'OM' 'SD' 'AE' 'BH']\n"
     ]
    }
   ],
   "source": [
    "# Display the dialect names\n",
    "dialect_names = data['dialect'].unique()\n",
    "print(dialect_names)"
   ]
  },
  {
   "cell_type": "markdown",
   "metadata": {
    "id": "ltGF1aNc8mg3"
   },
   "source": [
    "**Convert dialectal Arabic names to full country names**"
   ]
  },
  {
   "cell_type": "code",
   "execution_count": 7,
   "metadata": {
    "colab": {
     "base_uri": "https://localhost:8080/",
     "height": 424
    },
    "id": "TxAhLwrs8mg4",
    "outputId": "fb49ace4-638e-4520-cf4e-6bcaa00782ed"
   },
   "outputs": [
    {
     "data": {
      "text/html": [
       "<div>\n",
       "<style scoped>\n",
       "    .dataframe tbody tr th:only-of-type {\n",
       "        vertical-align: middle;\n",
       "    }\n",
       "\n",
       "    .dataframe tbody tr th {\n",
       "        vertical-align: top;\n",
       "    }\n",
       "\n",
       "    .dataframe thead th {\n",
       "        text-align: right;\n",
       "    }\n",
       "</style>\n",
       "<table border=\"1\" class=\"dataframe\">\n",
       "  <thead>\n",
       "    <tr style=\"text-align: right;\">\n",
       "      <th></th>\n",
       "      <th>tweets</th>\n",
       "      <th>dialect</th>\n",
       "    </tr>\n",
       "  </thead>\n",
       "  <tbody>\n",
       "    <tr>\n",
       "      <th>0</th>\n",
       "      <td>@Nw8ieJUwaCAAreT لكن بالنهاية .. ينتفض .. يغير .</td>\n",
       "      <td>عراقي</td>\n",
       "    </tr>\n",
       "    <tr>\n",
       "      <th>1</th>\n",
       "      <td>@7zNqXP0yrODdRjK يعني هذا محسوب على البشر .. ح...</td>\n",
       "      <td>عراقي</td>\n",
       "    </tr>\n",
       "    <tr>\n",
       "      <th>2</th>\n",
       "      <td>@KanaanRema مبين من كلامه خليجي</td>\n",
       "      <td>عراقي</td>\n",
       "    </tr>\n",
       "    <tr>\n",
       "      <th>3</th>\n",
       "      <td>@HAIDER76128900 يسلملي مرورك وروحك الحلوه💐</td>\n",
       "      <td>عراقي</td>\n",
       "    </tr>\n",
       "    <tr>\n",
       "      <th>4</th>\n",
       "      <td>@hmo2406 وين هل الغيبه  اخ محمد 🌸🌺</td>\n",
       "      <td>عراقي</td>\n",
       "    </tr>\n",
       "    <tr>\n",
       "      <th>...</th>\n",
       "      <td>...</td>\n",
       "      <td>...</td>\n",
       "    </tr>\n",
       "    <tr>\n",
       "      <th>458196</th>\n",
       "      <td>@Al_mhbaa_7 مبسوطين منك اللي باسطانا😅</td>\n",
       "      <td>بحريني</td>\n",
       "    </tr>\n",
       "    <tr>\n",
       "      <th>458197</th>\n",
       "      <td>@Zzainabali @P_ameerah والله ماينده ابش يختي</td>\n",
       "      <td>بحريني</td>\n",
       "    </tr>\n",
       "    <tr>\n",
       "      <th>458198</th>\n",
       "      <td>@Al_mhbaa_7 شو عملنا لك حنا تهربي مننا احنا مس...</td>\n",
       "      <td>بحريني</td>\n",
       "    </tr>\n",
       "    <tr>\n",
       "      <th>458199</th>\n",
       "      <td>@haneenalmwla الله يبارك فيها وبالعافيه 😋😋😋</td>\n",
       "      <td>بحريني</td>\n",
       "    </tr>\n",
       "    <tr>\n",
       "      <th>458200</th>\n",
       "      <td>@jolnar121 السحله ضيفي ي بتطلع لك سحليه😅😅</td>\n",
       "      <td>بحريني</td>\n",
       "    </tr>\n",
       "  </tbody>\n",
       "</table>\n",
       "<p>458201 rows × 2 columns</p>\n",
       "</div>"
      ],
      "text/plain": [
       "                                                   tweets dialect\n",
       "0        @Nw8ieJUwaCAAreT لكن بالنهاية .. ينتفض .. يغير .   عراقي\n",
       "1       @7zNqXP0yrODdRjK يعني هذا محسوب على البشر .. ح...   عراقي\n",
       "2                         @KanaanRema مبين من كلامه خليجي   عراقي\n",
       "3              @HAIDER76128900 يسلملي مرورك وروحك الحلوه💐   عراقي\n",
       "4                      @hmo2406 وين هل الغيبه  اخ محمد 🌸🌺   عراقي\n",
       "...                                                   ...     ...\n",
       "458196              @Al_mhbaa_7 مبسوطين منك اللي باسطانا😅  بحريني\n",
       "458197       @Zzainabali @P_ameerah والله ماينده ابش يختي  بحريني\n",
       "458198  @Al_mhbaa_7 شو عملنا لك حنا تهربي مننا احنا مس...  بحريني\n",
       "458199        @haneenalmwla الله يبارك فيها وبالعافيه 😋😋😋  بحريني\n",
       "458200          @jolnar121 السحله ضيفي ي بتطلع لك سحليه😅😅  بحريني\n",
       "\n",
       "[458201 rows x 2 columns]"
      ]
     },
     "execution_count": 7,
     "metadata": {},
     "output_type": "execute_result"
    }
   ],
   "source": [
    "# Define a dictionary that maps dialectal Arabic names to full country names\n",
    "short_to_full = {\n",
    "    'EG': 'مصري',\n",
    "    'DZ': 'جزائري',\n",
    "    'TN': 'تونسي',\n",
    "    'LY': 'ليبي',\n",
    "    'MA': 'مغربي',\n",
    "    'JO': 'اردني',\n",
    "    'LB': 'لبناني',\n",
    "    'PL': 'فلسطيني',\n",
    "    'SY': 'سوري',\n",
    "    'IQ': 'عراقي',\n",
    "    'KW': 'كويتي',\n",
    "    'SA': 'سعودي',\n",
    "    'AE': 'اماراتي',\n",
    "    'OM': 'عماني',\n",
    "    'QA': 'قطري',\n",
    "    'YE': 'يمني',\n",
    "    'SD': 'سوداني',\n",
    "    'BH': 'بحريني'\n",
    "}\n",
    "# Define a function that converts the short names to full names\n",
    "def convert_name(name):\n",
    "    return short_to_full[name]\n",
    "\n",
    "# Convert dialectal Arabic names to full country names\n",
    "data['dialect'] = data['dialect'].apply(convert_name)\n",
    "\n",
    "data"
   ]
  },
  {
   "cell_type": "code",
   "execution_count": 8,
   "metadata": {
    "id": "18oOmyj_8mg4"
   },
   "outputs": [],
   "source": [
    "import re\n",
    "\n",
    "# Iterate over each tweet in the 'Tweets' column\n",
    "for i, sent in enumerate(data['tweets']):\n",
    "    # Apply regular expression substitution to remove alphanumeric characters, hashtags, and URLs\n",
    "    data.iloc[i:i+1, 0] = re.sub('[a-zA-Z0-9_]|#|http\\S+', '', sent)\n",
    "\n"
   ]
  },
  {
   "cell_type": "code",
   "execution_count": 9,
   "metadata": {
    "id": "RLf2G9hd8mg5"
   },
   "outputs": [],
   "source": [
    "for i, sent in enumerate(data['tweets']):\n",
    "    # remove old style retweet text \"RT\"\n",
    "    data.iloc[i:i+1, 0] = re.sub(r'^RT[\\s]+', '', sent)\n",
    "\n",
    "    # remove hyperlinks\n",
    "    data.iloc[i:i+1, 0] = re.sub(r'https?://[^\\s\\n\\r]+', '', sent)\n",
    "\n",
    "    # remove hashtags and mentions, only removing the hash # sign from the word and the @ sign\n",
    "    data.iloc[i:i+1, 0] = re.sub(r'#', '', sent)\n",
    "    data.iloc[i:i+1, 0] = re.sub(r'@', '', sent)\n",
    "\n"
   ]
  },
  {
   "cell_type": "code",
   "execution_count": 10,
   "metadata": {
    "id": "rDBtwDB_8mg5"
   },
   "outputs": [],
   "source": [
    "import unicodedata as ud\n",
    "\n",
    "# Iterate over each tweet in the 'Tweets' column of\n",
    "for i, sent in enumerate(data['tweets']):\n",
    "    # Apply Unicode category-based filtering to remove punctuation characters\n",
    "    data.iloc[i:i+1, 0] = ''.join(c for c in sent if not ud.category(c).startswith('P'))"
   ]
  },
  {
   "cell_type": "code",
   "execution_count": 11,
   "metadata": {
    "id": "WbpLVVPJ8mg5"
   },
   "outputs": [],
   "source": [
    "# remove non word or spaces (punctuation & emojis)\n",
    "for i, sent in enumerate(data['tweets']):\n",
    "    data.iloc[i:i+1, 0] = re.sub(r'[^\\w\\s]', ' ', sent)"
   ]
  },
  {
   "cell_type": "code",
   "execution_count": 12,
   "metadata": {
    "id": "Z3_UwqDJ8mg6"
   },
   "outputs": [],
   "source": [
    "# stop words file that contains the most common arabic stop words\n",
    "with open('Stop_Words.txt', 'r', encoding=\"utf-8\") as f:\n",
    "    stopwords = f.readlines()\n",
    "    stop_set = set(m.strip() for m in stopwords)\n",
    "    stop_words = list(frozenset(stop_set))"
   ]
  },
  {
   "cell_type": "code",
   "execution_count": 16,
   "metadata": {
    "colab": {
     "base_uri": "https://localhost:8080/"
    },
    "id": "9QsJ9lNP-XDl",
    "outputId": "fcf39628-266e-4f8c-ccbb-8c93db00ba0f"
   },
   "outputs": [
    {
     "name": "stdout",
     "output_type": "stream",
     "text": [
      "Requirement already satisfied: nltk in /usr/local/lib/python3.10/dist-packages (3.8.1)\n",
      "Requirement already satisfied: click in /usr/local/lib/python3.10/dist-packages (from nltk) (8.1.7)\n",
      "Requirement already satisfied: joblib in /usr/local/lib/python3.10/dist-packages (from nltk) (1.3.2)\n",
      "Requirement already satisfied: regex>=2021.8.3 in /usr/local/lib/python3.10/dist-packages (from nltk) (2023.6.3)\n",
      "Requirement already satisfied: tqdm in /usr/local/lib/python3.10/dist-packages (from nltk) (4.66.1)\n"
     ]
    }
   ],
   "source": [
    "!pip install nltk"
   ]
  },
  {
   "cell_type": "code",
   "execution_count": 13,
   "metadata": {
    "colab": {
     "base_uri": "https://localhost:8080/"
    },
    "id": "9Ps214GB8mg6",
    "outputId": "b2aa4c48-e167-43e1-afb3-bbdc1109db3e"
   },
   "outputs": [
    {
     "name": "stderr",
     "output_type": "stream",
     "text": [
      "[nltk_data] Downloading package punkt to\n",
      "[nltk_data]     /Users/abdullahalturki/nltk_data...\n",
      "[nltk_data]   Package punkt is already up-to-date!\n"
     ]
    }
   ],
   "source": [
    "import nltk\n",
    "from nltk.tokenize import word_tokenize\n",
    "from nltk.corpus import stopwords\n",
    "nltk.download('punkt')\n",
    "# Iterate over each tweet in the 'Tweets' column\n",
    "for i, sent in enumerate(data['tweets']):\n",
    "    # Tokenize the tweet into words\n",
    "    tokens = nltk.word_tokenize(sent)\n",
    "    # Filter out stopwords from the tokens\n",
    "    data.iloc[i:i+1, 0] = ' '.join(token for token in tokens if not token in stop_words)"
   ]
  },
  {
   "cell_type": "code",
   "execution_count": 14,
   "metadata": {
    "id": "IBKzJHZa8mg7"
   },
   "outputs": [],
   "source": [
    "# remove extra spaces\n",
    "for i, sent in enumerate(data['tweets']):\n",
    "    data.iloc[i:i+1, 0] = \" \".join(sent.split())\n",
    "    data.iloc[i:i+1, 0]=re.sub(r'[^0-9\\u0600-\\u06ff\\u0750-\\u077f\\ufb50-\\ufbc1\\ufbd3-\\ufd3f\\ufd50-\\ufd8f\\ufd50-\\ufd8f\\ufe70-\\ufefc\\uFDF0-\\uFDFD.0-9]+', ' ', sent) # تحذف الاشياء الغير عربية\n"
   ]
  },
  {
   "cell_type": "code",
   "execution_count": 16,
   "metadata": {
    "colab": {
     "base_uri": "https://localhost:8080/"
    },
    "id": "1E0lzAoz8mg7",
    "outputId": "5219ee07-2f40-42ef-f6e7-689e113a6224"
   },
   "outputs": [
    {
     "data": {
      "text/plain": [
       "tweets     0\n",
       "dialect    0\n",
       "dtype: int64"
      ]
     },
     "execution_count": 16,
     "metadata": {},
     "output_type": "execute_result"
    }
   ],
   "source": [
    "data.isnull().sum() # check nulls"
   ]
  },
  {
   "cell_type": "markdown",
   "metadata": {
    "id": "WvuDAbCL8mg9"
   },
   "source": [
    "# Data Modeling"
   ]
  },
  {
   "cell_type": "code",
   "execution_count": 15,
   "metadata": {
    "id": "xcsjTzl48mg-"
   },
   "outputs": [],
   "source": [
    "summarizedDialects=data.copy()"
   ]
  },
  {
   "cell_type": "code",
   "execution_count": null,
   "metadata": {
    "id": "yI-6hZw9gg-h"
   },
   "outputs": [],
   "source": []
  },
  {
   "cell_type": "code",
   "execution_count": 18,
   "metadata": {
    "colab": {
     "base_uri": "https://localhost:8080/"
    },
    "id": "x4bNAKasYUpO",
    "outputId": "9b04ff38-7c94-4cc4-8450-c81cdc5e5300"
   },
   "outputs": [
    {
     "data": {
      "text/plain": [
       "مصري       57640\n",
       "فلسطيني    43742\n",
       "كويتي      42109\n",
       "ليبي       36499\n",
       "قطري       31069\n",
       "اردني      27921\n",
       "لبناني     27617\n",
       "سعودي      26832\n",
       "اماراتي    26296\n",
       "بحريني     26292\n",
       "عماني      19116\n",
       "سوري       16242\n",
       "جزائري     16183\n",
       "عراقي      15497\n",
       "سوداني     14434\n",
       "مغربي      11539\n",
       "يمني        9927\n",
       "تونسي       9246\n",
       "Name: dialect, dtype: int64"
      ]
     },
     "execution_count": 18,
     "metadata": {},
     "output_type": "execute_result"
    }
   ],
   "source": [
    "data['dialect'].value_counts() #before"
   ]
  },
  {
   "cell_type": "code",
   "execution_count": 16,
   "metadata": {
    "id": "Mty2bBDo8mg-"
   },
   "outputs": [],
   "source": [
    "# filter dialects\n",
    "summarizedDialects.drop(summarizedDialects[summarizedDialects['dialect'] == 'يمني'].index, inplace = True)\n",
    "summarizedDialects.drop(summarizedDialects[summarizedDialects['dialect'] == 'جزائري'].index, inplace = True)\n",
    "summarizedDialects.drop(summarizedDialects[summarizedDialects['dialect'] == 'قطري'].index, inplace = True)\n",
    "summarizedDialects.drop(summarizedDialects[summarizedDialects['dialect'] == 'بحريني'].index, inplace = True)\n",
    "summarizedDialects.drop(summarizedDialects[summarizedDialects['dialect'] == 'تونسي'].index, inplace = True)\n",
    "summarizedDialects.drop(summarizedDialects[summarizedDialects['dialect'] == 'اردني'].index, inplace = True)\n",
    "summarizedDialects.drop(summarizedDialects[summarizedDialects['dialect'] == 'اماراتي'].index, inplace = True)\n",
    "summarizedDialects.drop(summarizedDialects[summarizedDialects['dialect'] == 'عراقي'].index, inplace = True)\n",
    "summarizedDialects.drop(summarizedDialects[summarizedDialects['dialect'] == 'عماني'].index, inplace = True)\n",
    "summarizedDialects.drop(summarizedDialects[summarizedDialects['dialect'] == 'فلسطيني'].index, inplace = True)\n",
    "summarizedDialects.drop(summarizedDialects[summarizedDialects['dialect'] == 'ليبي'].index, inplace = True)"
   ]
  },
  {
   "cell_type": "code",
   "execution_count": 17,
   "metadata": {
    "colab": {
     "base_uri": "https://localhost:8080/"
    },
    "id": "ylyqwK2D8mg-",
    "outputId": "43da50e6-574e-4d49-e3f5-287cbdc6c75e"
   },
   "outputs": [
    {
     "data": {
      "text/plain": [
       "مصري      57640\n",
       "كويتي     42109\n",
       "لبناني    27617\n",
       "سعودي     26832\n",
       "سوري      16242\n",
       "سوداني    14434\n",
       "مغربي     11539\n",
       "Name: dialect, dtype: int64"
      ]
     },
     "execution_count": 17,
     "metadata": {},
     "output_type": "execute_result"
    }
   ],
   "source": [
    "summarizedDialects['dialect'].value_counts() #after"
   ]
  },
  {
   "cell_type": "code",
   "execution_count": 18,
   "metadata": {
    "colab": {
     "base_uri": "https://localhost:8080/",
     "height": 206
    },
    "id": "_Szmt1Jzg6qp",
    "outputId": "1820bc6f-aa94-41c5-91d3-9c56e3b54ba3"
   },
   "outputs": [
    {
     "data": {
      "text/html": [
       "<div>\n",
       "<style scoped>\n",
       "    .dataframe tbody tr th:only-of-type {\n",
       "        vertical-align: middle;\n",
       "    }\n",
       "\n",
       "    .dataframe tbody tr th {\n",
       "        vertical-align: top;\n",
       "    }\n",
       "\n",
       "    .dataframe thead th {\n",
       "        text-align: right;\n",
       "    }\n",
       "</style>\n",
       "<table border=\"1\" class=\"dataframe\">\n",
       "  <thead>\n",
       "    <tr style=\"text-align: right;\">\n",
       "      <th></th>\n",
       "      <th>tweets</th>\n",
       "      <th>dialect</th>\n",
       "    </tr>\n",
       "  </thead>\n",
       "  <tbody>\n",
       "    <tr>\n",
       "      <th>191755</th>\n",
       "      <td>سعيد قررت اروح تركيا يومين وبعدين المغرب شهرين</td>\n",
       "      <td>سعودي</td>\n",
       "    </tr>\n",
       "    <tr>\n",
       "      <th>191756</th>\n",
       "      <td>الله يسمع منك ياصبي الهيلا بس قرقاش ذا قام يقر...</td>\n",
       "      <td>سعودي</td>\n",
       "    </tr>\n",
       "    <tr>\n",
       "      <th>191757</th>\n",
       "      <td>ابراي الله بس خلينا نخفف اللهجة شوي تري تعليمن...</td>\n",
       "      <td>سعودي</td>\n",
       "    </tr>\n",
       "    <tr>\n",
       "      <th>191758</th>\n",
       "      <td>مو ياخوي حنا كنا اخوان ونقرقش لبعض وش صار</td>\n",
       "      <td>سعودي</td>\n",
       "    </tr>\n",
       "    <tr>\n",
       "      <th>191759</th>\n",
       "      <td>يعني بنكمل وحنا ناقصين لاعب بننهي الحرب علي فك...</td>\n",
       "      <td>سعودي</td>\n",
       "    </tr>\n",
       "  </tbody>\n",
       "</table>\n",
       "</div>"
      ],
      "text/plain": [
       "                                                   tweets dialect\n",
       "191755     سعيد قررت اروح تركيا يومين وبعدين المغرب شهرين   سعودي\n",
       "191756  الله يسمع منك ياصبي الهيلا بس قرقاش ذا قام يقر...   سعودي\n",
       "191757  ابراي الله بس خلينا نخفف اللهجة شوي تري تعليمن...   سعودي\n",
       "191758          مو ياخوي حنا كنا اخوان ونقرقش لبعض وش صار   سعودي\n",
       "191759  يعني بنكمل وحنا ناقصين لاعب بننهي الحرب علي فك...   سعودي"
      ]
     },
     "execution_count": 18,
     "metadata": {},
     "output_type": "execute_result"
    }
   ],
   "source": [
    "summarizedDialects[summarizedDialects['dialect'] == 'سعودي'].head()"
   ]
  },
  {
   "cell_type": "code",
   "execution_count": 19,
   "metadata": {
    "id": "zlrYnbcb8mg_"
   },
   "outputs": [],
   "source": [
    "import tensorflow as tf\n",
    "\n",
    "import pandas as pd\n",
    "import numpy as np\n",
    "import matplotlib.pyplot as plt\n",
    "import re\n",
    "\n",
    "from sklearn.feature_extraction.text import CountVectorizer, TfidfVectorizer\n",
    "from sklearn.svm import LinearSVC\n",
    "from sklearn.pipeline import make_pipeline\n",
    "from sklearn.model_selection import train_test_split\n",
    "\n"
   ]
  },
  {
   "cell_type": "markdown",
   "metadata": {
    "id": "esQPdzhwYeSH"
   },
   "source": [
    "### LinearSVC\n",
    "LinearSVC can be used for multi-class classification by using one-vs-all or one-vs-rest strategies. The one-vs-all strategy creates a separate SVM for each class, and the one-vs-rest strategy creates a single SVM that learns to distinguish between each class and the rest of the classes.\n",
    "\n",
    "Overall, LinearSVC is a fast and accurate algorithm for training linear SVMs for large-scale multi-class classification problems."
   ]
  },
  {
   "cell_type": "code",
   "execution_count": 20,
   "metadata": {
    "colab": {
     "base_uri": "https://localhost:8080/",
     "height": 126
    },
    "id": "LGlmWXJ88mg_",
    "outputId": "dd2d1603-fece-46af-a7d1-3f707e3f141b"
   },
   "outputs": [
    {
     "name": "stderr",
     "output_type": "stream",
     "text": [
      "/Users/abdullahalturki/anaconda3/lib/python3.11/site-packages/sklearn/svm/_classes.py:32: FutureWarning: The default value of `dual` will change from `True` to `'auto'` in 1.5. Set the value of `dual` explicitly to suppress the warning.\n",
      "  warnings.warn(\n"
     ]
    },
    {
     "data": {
      "text/html": [
       "<style>#sk-container-id-1 {color: black;}#sk-container-id-1 pre{padding: 0;}#sk-container-id-1 div.sk-toggleable {background-color: white;}#sk-container-id-1 label.sk-toggleable__label {cursor: pointer;display: block;width: 100%;margin-bottom: 0;padding: 0.3em;box-sizing: border-box;text-align: center;}#sk-container-id-1 label.sk-toggleable__label-arrow:before {content: \"▸\";float: left;margin-right: 0.25em;color: #696969;}#sk-container-id-1 label.sk-toggleable__label-arrow:hover:before {color: black;}#sk-container-id-1 div.sk-estimator:hover label.sk-toggleable__label-arrow:before {color: black;}#sk-container-id-1 div.sk-toggleable__content {max-height: 0;max-width: 0;overflow: hidden;text-align: left;background-color: #f0f8ff;}#sk-container-id-1 div.sk-toggleable__content pre {margin: 0.2em;color: black;border-radius: 0.25em;background-color: #f0f8ff;}#sk-container-id-1 input.sk-toggleable__control:checked~div.sk-toggleable__content {max-height: 200px;max-width: 100%;overflow: auto;}#sk-container-id-1 input.sk-toggleable__control:checked~label.sk-toggleable__label-arrow:before {content: \"▾\";}#sk-container-id-1 div.sk-estimator input.sk-toggleable__control:checked~label.sk-toggleable__label {background-color: #d4ebff;}#sk-container-id-1 div.sk-label input.sk-toggleable__control:checked~label.sk-toggleable__label {background-color: #d4ebff;}#sk-container-id-1 input.sk-hidden--visually {border: 0;clip: rect(1px 1px 1px 1px);clip: rect(1px, 1px, 1px, 1px);height: 1px;margin: -1px;overflow: hidden;padding: 0;position: absolute;width: 1px;}#sk-container-id-1 div.sk-estimator {font-family: monospace;background-color: #f0f8ff;border: 1px dotted black;border-radius: 0.25em;box-sizing: border-box;margin-bottom: 0.5em;}#sk-container-id-1 div.sk-estimator:hover {background-color: #d4ebff;}#sk-container-id-1 div.sk-parallel-item::after {content: \"\";width: 100%;border-bottom: 1px solid gray;flex-grow: 1;}#sk-container-id-1 div.sk-label:hover label.sk-toggleable__label {background-color: #d4ebff;}#sk-container-id-1 div.sk-serial::before {content: \"\";position: absolute;border-left: 1px solid gray;box-sizing: border-box;top: 0;bottom: 0;left: 50%;z-index: 0;}#sk-container-id-1 div.sk-serial {display: flex;flex-direction: column;align-items: center;background-color: white;padding-right: 0.2em;padding-left: 0.2em;position: relative;}#sk-container-id-1 div.sk-item {position: relative;z-index: 1;}#sk-container-id-1 div.sk-parallel {display: flex;align-items: stretch;justify-content: center;background-color: white;position: relative;}#sk-container-id-1 div.sk-item::before, #sk-container-id-1 div.sk-parallel-item::before {content: \"\";position: absolute;border-left: 1px solid gray;box-sizing: border-box;top: 0;bottom: 0;left: 50%;z-index: -1;}#sk-container-id-1 div.sk-parallel-item {display: flex;flex-direction: column;z-index: 1;position: relative;background-color: white;}#sk-container-id-1 div.sk-parallel-item:first-child::after {align-self: flex-end;width: 50%;}#sk-container-id-1 div.sk-parallel-item:last-child::after {align-self: flex-start;width: 50%;}#sk-container-id-1 div.sk-parallel-item:only-child::after {width: 0;}#sk-container-id-1 div.sk-dashed-wrapped {border: 1px dashed gray;margin: 0 0.4em 0.5em 0.4em;box-sizing: border-box;padding-bottom: 0.4em;background-color: white;}#sk-container-id-1 div.sk-label label {font-family: monospace;font-weight: bold;display: inline-block;line-height: 1.2em;}#sk-container-id-1 div.sk-label-container {text-align: center;}#sk-container-id-1 div.sk-container {/* jupyter's `normalize.less` sets `[hidden] { display: none; }` but bootstrap.min.css set `[hidden] { display: none !important; }` so we also need the `!important` here to be able to override the default hidden behavior on the sphinx rendered scikit-learn.org. See: https://github.com/scikit-learn/scikit-learn/issues/21755 */display: inline-block !important;position: relative;}#sk-container-id-1 div.sk-text-repr-fallback {display: none;}</style><div id=\"sk-container-id-1\" class=\"sk-top-container\"><div class=\"sk-text-repr-fallback\"><pre>Pipeline(steps=[(&#x27;countvectorizer&#x27;, CountVectorizer()),\n",
       "                (&#x27;linearsvc&#x27;, LinearSVC())])</pre><b>In a Jupyter environment, please rerun this cell to show the HTML representation or trust the notebook. <br />On GitHub, the HTML representation is unable to render, please try loading this page with nbviewer.org.</b></div><div class=\"sk-container\" hidden><div class=\"sk-item sk-dashed-wrapped\"><div class=\"sk-label-container\"><div class=\"sk-label sk-toggleable\"><input class=\"sk-toggleable__control sk-hidden--visually\" id=\"sk-estimator-id-1\" type=\"checkbox\" ><label for=\"sk-estimator-id-1\" class=\"sk-toggleable__label sk-toggleable__label-arrow\">Pipeline</label><div class=\"sk-toggleable__content\"><pre>Pipeline(steps=[(&#x27;countvectorizer&#x27;, CountVectorizer()),\n",
       "                (&#x27;linearsvc&#x27;, LinearSVC())])</pre></div></div></div><div class=\"sk-serial\"><div class=\"sk-item\"><div class=\"sk-estimator sk-toggleable\"><input class=\"sk-toggleable__control sk-hidden--visually\" id=\"sk-estimator-id-2\" type=\"checkbox\" ><label for=\"sk-estimator-id-2\" class=\"sk-toggleable__label sk-toggleable__label-arrow\">CountVectorizer</label><div class=\"sk-toggleable__content\"><pre>CountVectorizer()</pre></div></div></div><div class=\"sk-item\"><div class=\"sk-estimator sk-toggleable\"><input class=\"sk-toggleable__control sk-hidden--visually\" id=\"sk-estimator-id-3\" type=\"checkbox\" ><label for=\"sk-estimator-id-3\" class=\"sk-toggleable__label sk-toggleable__label-arrow\">LinearSVC</label><div class=\"sk-toggleable__content\"><pre>LinearSVC()</pre></div></div></div></div></div></div></div>"
      ],
      "text/plain": [
       "Pipeline(steps=[('countvectorizer', CountVectorizer()),\n",
       "                ('linearsvc', LinearSVC())])"
      ]
     },
     "execution_count": 20,
     "metadata": {},
     "output_type": "execute_result"
    }
   ],
   "source": [
    "x_train, x_test, y_train, y_test = train_test_split(summarizedDialects.tweets, summarizedDialects.dialect, test_size=.2,train_size=0.8, stratify=summarizedDialects.dialect, random_state=42)\n",
    "\n",
    "vec = CountVectorizer()\n",
    "clf = LinearSVC()\n",
    "pipe = make_pipeline(vec, clf)\n",
    "pipe.fit(x_train, y_train)\n"
   ]
  },
  {
   "cell_type": "code",
   "execution_count": 21,
   "metadata": {
    "colab": {
     "base_uri": "https://localhost:8080/"
    },
    "id": "BzRW5Dd58NrS",
    "outputId": "18e9c404-8fc1-4870-ed7e-66fafdf59874"
   },
   "outputs": [
    {
     "data": {
      "text/plain": [
       "(39283,)"
      ]
     },
     "execution_count": 21,
     "metadata": {},
     "output_type": "execute_result"
    }
   ],
   "source": [
    "x_test.shape"
   ]
  },
  {
   "cell_type": "code",
   "execution_count": 22,
   "metadata": {
    "colab": {
     "base_uri": "https://localhost:8080/"
    },
    "id": "zjFrQlEm8mg_",
    "outputId": "08d562c0-8c60-4c96-95bc-544a6ec3ba3a"
   },
   "outputs": [
    {
     "name": "stdout",
     "output_type": "stream",
     "text": [
      "              precision    recall  f1-score   support\n",
      "\n",
      "       سعودي       0.59      0.58      0.59      5366\n",
      "      سوداني       0.69      0.59      0.64      2887\n",
      "        سوري       0.52      0.45      0.49      3248\n",
      "       كويتي       0.71      0.75      0.73      8422\n",
      "      لبناني       0.70      0.73      0.72      5524\n",
      "        مصري       0.83      0.89      0.86     11528\n",
      "       مغربي       0.79      0.64      0.71      2308\n",
      "\n",
      "    accuracy                           0.72     39283\n",
      "   macro avg       0.69      0.66      0.67     39283\n",
      "weighted avg       0.72      0.72      0.72     39283\n",
      "\n",
      "accuracy: 0.721\n"
     ]
    }
   ],
   "source": [
    "from sklearn import metrics\n",
    "\n",
    "def print_report(pipe, x_test, y_test):\n",
    "    y_pred = pipe.predict(x_test)\n",
    "    report = metrics.classification_report(y_test, y_pred)\n",
    "    print(report)\n",
    "    print(\"accuracy: {:0.3f}\".format(metrics.accuracy_score(y_test, y_pred)))\n",
    "\n",
    "print_report(pipe, x_test, y_test)"
   ]
  },
  {
   "cell_type": "code",
   "execution_count": 23,
   "metadata": {
    "colab": {
     "base_uri": "https://localhost:8080/"
    },
    "id": "mqmkQgUW8mhA",
    "outputId": "6d0fabb8-7505-45d8-e245-fb5336101362"
   },
   "outputs": [
    {
     "name": "stdout",
     "output_type": "stream",
     "text": [
      "For N-Gram range = ((1, 1))\n"
     ]
    },
    {
     "name": "stderr",
     "output_type": "stream",
     "text": [
      "/Users/abdullahalturki/anaconda3/lib/python3.11/site-packages/sklearn/svm/_classes.py:32: FutureWarning: The default value of `dual` will change from `True` to `'auto'` in 1.5. Set the value of `dual` explicitly to suppress the warning.\n",
      "  warnings.warn(\n"
     ]
    },
    {
     "name": "stdout",
     "output_type": "stream",
     "text": [
      "              precision    recall  f1-score   support\n",
      "\n",
      "       سعودي       0.63      0.61      0.62      5366\n",
      "      سوداني       0.78      0.60      0.68      2887\n",
      "        سوري       0.61      0.44      0.51      3248\n",
      "       كويتي       0.71      0.80      0.75      8422\n",
      "      لبناني       0.74      0.77      0.76      5524\n",
      "        مصري       0.84      0.92      0.88     11528\n",
      "       مغربي       0.86      0.66      0.75      2308\n",
      "\n",
      "    accuracy                           0.75     39283\n",
      "   macro avg       0.74      0.69      0.71     39283\n",
      "weighted avg       0.75      0.75      0.75     39283\n",
      "\n",
      "accuracy: 0.752\n",
      "############################################################\n",
      "\n",
      "\n",
      "\n",
      "For N-Gram range = ((1, 2))\n"
     ]
    },
    {
     "name": "stderr",
     "output_type": "stream",
     "text": [
      "/Users/abdullahalturki/anaconda3/lib/python3.11/site-packages/sklearn/svm/_classes.py:32: FutureWarning: The default value of `dual` will change from `True` to `'auto'` in 1.5. Set the value of `dual` explicitly to suppress the warning.\n",
      "  warnings.warn(\n"
     ]
    },
    {
     "name": "stdout",
     "output_type": "stream",
     "text": [
      "              precision    recall  f1-score   support\n",
      "\n",
      "       سعودي       0.66      0.61      0.64      5366\n",
      "      سوداني       0.81      0.59      0.68      2887\n",
      "        سوري       0.67      0.41      0.51      3248\n",
      "       كويتي       0.71      0.82      0.76      8422\n",
      "      لبناني       0.75      0.79      0.77      5524\n",
      "        مصري       0.83      0.93      0.88     11528\n",
      "       مغربي       0.89      0.66      0.76      2308\n",
      "\n",
      "    accuracy                           0.76     39283\n",
      "   macro avg       0.76      0.69      0.71     39283\n",
      "weighted avg       0.76      0.76      0.75     39283\n",
      "\n",
      "accuracy: 0.759\n",
      "############################################################\n",
      "\n",
      "\n",
      "\n",
      "For N-Gram range = ((2, 3))\n"
     ]
    },
    {
     "name": "stderr",
     "output_type": "stream",
     "text": [
      "/Users/abdullahalturki/anaconda3/lib/python3.11/site-packages/sklearn/svm/_classes.py:32: FutureWarning: The default value of `dual` will change from `True` to `'auto'` in 1.5. Set the value of `dual` explicitly to suppress the warning.\n",
      "  warnings.warn(\n"
     ]
    },
    {
     "name": "stdout",
     "output_type": "stream",
     "text": [
      "              precision    recall  f1-score   support\n",
      "\n",
      "       سعودي       0.58      0.33      0.42      5366\n",
      "      سوداني       0.72      0.28      0.40      2887\n",
      "        سوري       0.52      0.21      0.30      3248\n",
      "       كويتي       0.62      0.56      0.59      8422\n",
      "      لبناني       0.66      0.50      0.57      5524\n",
      "        مصري       0.50      0.92      0.65     11528\n",
      "       مغربي       0.81      0.32      0.46      2308\n",
      "\n",
      "    accuracy                           0.56     39283\n",
      "   macro avg       0.63      0.45      0.48     39283\n",
      "weighted avg       0.60      0.56      0.54     39283\n",
      "\n",
      "accuracy: 0.563\n",
      "############################################################\n",
      "\n",
      "\n",
      "\n",
      "For N-Gram range = ((3, 5))\n"
     ]
    },
    {
     "name": "stderr",
     "output_type": "stream",
     "text": [
      "/Users/abdullahalturki/anaconda3/lib/python3.11/site-packages/sklearn/svm/_classes.py:32: FutureWarning: The default value of `dual` will change from `True` to `'auto'` in 1.5. Set the value of `dual` explicitly to suppress the warning.\n",
      "  warnings.warn(\n"
     ]
    },
    {
     "name": "stdout",
     "output_type": "stream",
     "text": [
      "              precision    recall  f1-score   support\n",
      "\n",
      "       سعودي       0.66      0.08      0.15      5366\n",
      "      سوداني       0.65      0.03      0.06      2887\n",
      "        سوري       0.59      0.06      0.11      3248\n",
      "       كويتي       0.71      0.13      0.22      8422\n",
      "      لبناني       0.71      0.09      0.16      5524\n",
      "        مصري       0.32      0.98      0.48     11528\n",
      "       مغربي       0.65      0.05      0.08      2308\n",
      "\n",
      "    accuracy                           0.35     39283\n",
      "   macro avg       0.61      0.20      0.18     39283\n",
      "weighted avg       0.57      0.35      0.25     39283\n",
      "\n",
      "accuracy: 0.349\n",
      "############################################################\n",
      "\n",
      "\n",
      "\n"
     ]
    }
   ],
   "source": [
    "# Model Accuracy Enhancements\n",
    "ngram_range=[1,1,2,3,5]\n",
    "\n",
    "for i,j in zip(ngram_range,ngram_range[1:]):\n",
    "    print(f\"For N-Gram range = ({i,j})\")\n",
    "    vec = TfidfVectorizer( ngram_range=(i, j))\n",
    "    clf_svc = LinearSVC()\n",
    "    pipe_tfidf = make_pipeline(vec, clf_svc)\n",
    "    pipe_tfidf.fit(x_train, y_train)\n",
    "    print_report(pipe_tfidf, x_test , y_test)\n",
    "    print('#'*60)\n",
    "    print('\\n'*2)"
   ]
  },
  {
   "cell_type": "code",
   "execution_count": 24,
   "metadata": {
    "colab": {
     "base_uri": "https://localhost:8080/",
     "height": 126
    },
    "id": "Sri43GCI8mhA",
    "outputId": "9a79f944-78d2-48af-87cf-31eb140402b1"
   },
   "outputs": [
    {
     "name": "stderr",
     "output_type": "stream",
     "text": [
      "/Users/abdullahalturki/anaconda3/lib/python3.11/site-packages/sklearn/svm/_classes.py:32: FutureWarning: The default value of `dual` will change from `True` to `'auto'` in 1.5. Set the value of `dual` explicitly to suppress the warning.\n",
      "  warnings.warn(\n"
     ]
    },
    {
     "data": {
      "text/html": [
       "<style>#sk-container-id-2 {color: black;}#sk-container-id-2 pre{padding: 0;}#sk-container-id-2 div.sk-toggleable {background-color: white;}#sk-container-id-2 label.sk-toggleable__label {cursor: pointer;display: block;width: 100%;margin-bottom: 0;padding: 0.3em;box-sizing: border-box;text-align: center;}#sk-container-id-2 label.sk-toggleable__label-arrow:before {content: \"▸\";float: left;margin-right: 0.25em;color: #696969;}#sk-container-id-2 label.sk-toggleable__label-arrow:hover:before {color: black;}#sk-container-id-2 div.sk-estimator:hover label.sk-toggleable__label-arrow:before {color: black;}#sk-container-id-2 div.sk-toggleable__content {max-height: 0;max-width: 0;overflow: hidden;text-align: left;background-color: #f0f8ff;}#sk-container-id-2 div.sk-toggleable__content pre {margin: 0.2em;color: black;border-radius: 0.25em;background-color: #f0f8ff;}#sk-container-id-2 input.sk-toggleable__control:checked~div.sk-toggleable__content {max-height: 200px;max-width: 100%;overflow: auto;}#sk-container-id-2 input.sk-toggleable__control:checked~label.sk-toggleable__label-arrow:before {content: \"▾\";}#sk-container-id-2 div.sk-estimator input.sk-toggleable__control:checked~label.sk-toggleable__label {background-color: #d4ebff;}#sk-container-id-2 div.sk-label input.sk-toggleable__control:checked~label.sk-toggleable__label {background-color: #d4ebff;}#sk-container-id-2 input.sk-hidden--visually {border: 0;clip: rect(1px 1px 1px 1px);clip: rect(1px, 1px, 1px, 1px);height: 1px;margin: -1px;overflow: hidden;padding: 0;position: absolute;width: 1px;}#sk-container-id-2 div.sk-estimator {font-family: monospace;background-color: #f0f8ff;border: 1px dotted black;border-radius: 0.25em;box-sizing: border-box;margin-bottom: 0.5em;}#sk-container-id-2 div.sk-estimator:hover {background-color: #d4ebff;}#sk-container-id-2 div.sk-parallel-item::after {content: \"\";width: 100%;border-bottom: 1px solid gray;flex-grow: 1;}#sk-container-id-2 div.sk-label:hover label.sk-toggleable__label {background-color: #d4ebff;}#sk-container-id-2 div.sk-serial::before {content: \"\";position: absolute;border-left: 1px solid gray;box-sizing: border-box;top: 0;bottom: 0;left: 50%;z-index: 0;}#sk-container-id-2 div.sk-serial {display: flex;flex-direction: column;align-items: center;background-color: white;padding-right: 0.2em;padding-left: 0.2em;position: relative;}#sk-container-id-2 div.sk-item {position: relative;z-index: 1;}#sk-container-id-2 div.sk-parallel {display: flex;align-items: stretch;justify-content: center;background-color: white;position: relative;}#sk-container-id-2 div.sk-item::before, #sk-container-id-2 div.sk-parallel-item::before {content: \"\";position: absolute;border-left: 1px solid gray;box-sizing: border-box;top: 0;bottom: 0;left: 50%;z-index: -1;}#sk-container-id-2 div.sk-parallel-item {display: flex;flex-direction: column;z-index: 1;position: relative;background-color: white;}#sk-container-id-2 div.sk-parallel-item:first-child::after {align-self: flex-end;width: 50%;}#sk-container-id-2 div.sk-parallel-item:last-child::after {align-self: flex-start;width: 50%;}#sk-container-id-2 div.sk-parallel-item:only-child::after {width: 0;}#sk-container-id-2 div.sk-dashed-wrapped {border: 1px dashed gray;margin: 0 0.4em 0.5em 0.4em;box-sizing: border-box;padding-bottom: 0.4em;background-color: white;}#sk-container-id-2 div.sk-label label {font-family: monospace;font-weight: bold;display: inline-block;line-height: 1.2em;}#sk-container-id-2 div.sk-label-container {text-align: center;}#sk-container-id-2 div.sk-container {/* jupyter's `normalize.less` sets `[hidden] { display: none; }` but bootstrap.min.css set `[hidden] { display: none !important; }` so we also need the `!important` here to be able to override the default hidden behavior on the sphinx rendered scikit-learn.org. See: https://github.com/scikit-learn/scikit-learn/issues/21755 */display: inline-block !important;position: relative;}#sk-container-id-2 div.sk-text-repr-fallback {display: none;}</style><div id=\"sk-container-id-2\" class=\"sk-top-container\"><div class=\"sk-text-repr-fallback\"><pre>Pipeline(steps=[(&#x27;tfidfvectorizer&#x27;, TfidfVectorizer(ngram_range=(1, 2))),\n",
       "                (&#x27;linearsvc&#x27;, LinearSVC())])</pre><b>In a Jupyter environment, please rerun this cell to show the HTML representation or trust the notebook. <br />On GitHub, the HTML representation is unable to render, please try loading this page with nbviewer.org.</b></div><div class=\"sk-container\" hidden><div class=\"sk-item sk-dashed-wrapped\"><div class=\"sk-label-container\"><div class=\"sk-label sk-toggleable\"><input class=\"sk-toggleable__control sk-hidden--visually\" id=\"sk-estimator-id-4\" type=\"checkbox\" ><label for=\"sk-estimator-id-4\" class=\"sk-toggleable__label sk-toggleable__label-arrow\">Pipeline</label><div class=\"sk-toggleable__content\"><pre>Pipeline(steps=[(&#x27;tfidfvectorizer&#x27;, TfidfVectorizer(ngram_range=(1, 2))),\n",
       "                (&#x27;linearsvc&#x27;, LinearSVC())])</pre></div></div></div><div class=\"sk-serial\"><div class=\"sk-item\"><div class=\"sk-estimator sk-toggleable\"><input class=\"sk-toggleable__control sk-hidden--visually\" id=\"sk-estimator-id-5\" type=\"checkbox\" ><label for=\"sk-estimator-id-5\" class=\"sk-toggleable__label sk-toggleable__label-arrow\">TfidfVectorizer</label><div class=\"sk-toggleable__content\"><pre>TfidfVectorizer(ngram_range=(1, 2))</pre></div></div></div><div class=\"sk-item\"><div class=\"sk-estimator sk-toggleable\"><input class=\"sk-toggleable__control sk-hidden--visually\" id=\"sk-estimator-id-6\" type=\"checkbox\" ><label for=\"sk-estimator-id-6\" class=\"sk-toggleable__label sk-toggleable__label-arrow\">LinearSVC</label><div class=\"sk-toggleable__content\"><pre>LinearSVC()</pre></div></div></div></div></div></div></div>"
      ],
      "text/plain": [
       "Pipeline(steps=[('tfidfvectorizer', TfidfVectorizer(ngram_range=(1, 2))),\n",
       "                ('linearsvc', LinearSVC())])"
      ]
     },
     "execution_count": 24,
     "metadata": {},
     "output_type": "execute_result"
    }
   ],
   "source": [
    "# best score for LinearSVC model\n",
    "from sklearn.naive_bayes import MultinomialNB\n",
    "vec = TfidfVectorizer(ngram_range=(1, 2))\n",
    "clf = LinearSVC()\n",
    "pipe_tfidf = make_pipeline(vec, clf)\n",
    "pipe_tfidf.fit(x_train, y_train)"
   ]
  },
  {
   "cell_type": "markdown",
   "metadata": {
    "id": "wPGgdLwmjazo"
   },
   "source": [
    "### Cross-validation for LinearSVC"
   ]
  },
  {
   "cell_type": "code",
   "execution_count": 25,
   "metadata": {
    "id": "-1zkY09bbjrL"
   },
   "outputs": [
    {
     "name": "stderr",
     "output_type": "stream",
     "text": [
      "/Users/abdullahalturki/anaconda3/lib/python3.11/site-packages/sklearn/svm/_classes.py:32: FutureWarning: The default value of `dual` will change from `True` to `'auto'` in 1.5. Set the value of `dual` explicitly to suppress the warning.\n",
      "  warnings.warn(\n",
      "/Users/abdullahalturki/anaconda3/lib/python3.11/site-packages/sklearn/svm/_classes.py:32: FutureWarning: The default value of `dual` will change from `True` to `'auto'` in 1.5. Set the value of `dual` explicitly to suppress the warning.\n",
      "  warnings.warn(\n",
      "/Users/abdullahalturki/anaconda3/lib/python3.11/site-packages/sklearn/svm/_classes.py:32: FutureWarning: The default value of `dual` will change from `True` to `'auto'` in 1.5. Set the value of `dual` explicitly to suppress the warning.\n",
      "  warnings.warn(\n",
      "/Users/abdullahalturki/anaconda3/lib/python3.11/site-packages/sklearn/svm/_classes.py:32: FutureWarning: The default value of `dual` will change from `True` to `'auto'` in 1.5. Set the value of `dual` explicitly to suppress the warning.\n",
      "  warnings.warn(\n",
      "/Users/abdullahalturki/anaconda3/lib/python3.11/site-packages/sklearn/svm/_classes.py:32: FutureWarning: The default value of `dual` will change from `True` to `'auto'` in 1.5. Set the value of `dual` explicitly to suppress the warning.\n",
      "  warnings.warn(\n",
      "/Users/abdullahalturki/anaconda3/lib/python3.11/site-packages/sklearn/svm/_classes.py:32: FutureWarning: The default value of `dual` will change from `True` to `'auto'` in 1.5. Set the value of `dual` explicitly to suppress the warning.\n",
      "  warnings.warn(\n",
      "/Users/abdullahalturki/anaconda3/lib/python3.11/site-packages/sklearn/svm/_classes.py:32: FutureWarning: The default value of `dual` will change from `True` to `'auto'` in 1.5. Set the value of `dual` explicitly to suppress the warning.\n",
      "  warnings.warn(\n",
      "/Users/abdullahalturki/anaconda3/lib/python3.11/site-packages/sklearn/svm/_classes.py:32: FutureWarning: The default value of `dual` will change from `True` to `'auto'` in 1.5. Set the value of `dual` explicitly to suppress the warning.\n",
      "  warnings.warn(\n",
      "/Users/abdullahalturki/anaconda3/lib/python3.11/site-packages/sklearn/svm/_classes.py:32: FutureWarning: The default value of `dual` will change from `True` to `'auto'` in 1.5. Set the value of `dual` explicitly to suppress the warning.\n",
      "  warnings.warn(\n",
      "/Users/abdullahalturki/anaconda3/lib/python3.11/site-packages/sklearn/svm/_classes.py:32: FutureWarning: The default value of `dual` will change from `True` to `'auto'` in 1.5. Set the value of `dual` explicitly to suppress the warning.\n",
      "  warnings.warn(\n"
     ]
    },
    {
     "name": "stdout",
     "output_type": "stream",
     "text": [
      "CV average score: 0.76\n"
     ]
    }
   ],
   "source": [
    "from sklearn.model_selection import cross_val_score\n",
    "\n",
    "scores = cross_val_score(pipe_tfidf, x_train, y_train, cv=10)\n",
    "print(\"CV average score: %.2f\" % scores.mean())\n"
   ]
  },
  {
   "cell_type": "code",
   "execution_count": 26,
   "metadata": {
    "colab": {
     "base_uri": "https://localhost:8080/"
    },
    "id": "_h4obxgn8mhB",
    "outputId": "f5a5650d-dcbc-4f75-d910-794b2d6169af"
   },
   "outputs": [
    {
     "name": "stdout",
     "output_type": "stream",
     "text": [
      "              precision    recall  f1-score   support\n",
      "\n",
      "       سعودي       0.66      0.61      0.64      5366\n",
      "      سوداني       0.81      0.59      0.68      2887\n",
      "        سوري       0.67      0.41      0.51      3248\n",
      "       كويتي       0.71      0.82      0.76      8422\n",
      "      لبناني       0.75      0.79      0.77      5524\n",
      "        مصري       0.83      0.93      0.88     11528\n",
      "       مغربي       0.89      0.66      0.76      2308\n",
      "\n",
      "    accuracy                           0.76     39283\n",
      "   macro avg       0.76      0.69      0.71     39283\n",
      "weighted avg       0.76      0.76      0.75     39283\n",
      "\n",
      "accuracy: 0.759\n"
     ]
    }
   ],
   "source": [
    "deployment_pipeline = pipe_tfidf\n",
    "print_report(pipe_tfidf, x_test, y_test)\n"
   ]
  },
  {
   "cell_type": "code",
   "execution_count": 30,
   "metadata": {
    "colab": {
     "base_uri": "https://localhost:8080/"
    },
    "id": "xisZTcMy8mhB",
    "outputId": "b2ce46f1-cd68-42e3-f984-6c29b3d49b6c"
   },
   "outputs": [
    {
     "name": "stdout",
     "output_type": "stream",
     "text": [
      "['داير فول وكشري']\n",
      "داير فول وكشري --> ['سوداني']\n"
     ]
    }
   ],
   "source": [
    "\n",
    "# كل الجمهور يهال\n",
    "# ولك بيكون برا الهواء تلج\n",
    "# كل الجمهور بزران\n",
    "text = [\"داير فول وكشري\"]\n",
    "# text = [preprocessing.processing(x) for x in text]\n",
    "print(text)\n",
    "y_pred = deployment_pipeline.predict(text)\n",
    "for i in range(len(text)):\n",
    "    print(f'{text[i]} --> {[y_pred[i]]}')"
   ]
  },
  {
   "cell_type": "markdown",
   "metadata": {
    "id": "PG4vukXiNNqI"
   },
   "source": [
    "# Logistic Regression\n",
    "Logistic regression has multiple advantages such as easy to implement,very efficient to train,It can easily extend to multiple classes, and it is less inclined to over-fitting."
   ]
  },
  {
   "cell_type": "code",
   "execution_count": 31,
   "metadata": {
    "id": "HjxIx26tNTc6"
   },
   "outputs": [],
   "source": [
    "from sklearn.metrics import confusion_matrix,accuracy_score, classification_report\n",
    "from sklearn.linear_model import LogisticRegression\n",
    "from sklearn.feature_extraction.text import CountVectorizer, TfidfVectorizer\n",
    "\n",
    "LR = LogisticRegression(max_iter=250)\n",
    "Xtrain, Xtest, ytrain, ytest = train_test_split(summarizedDialects.tweets, summarizedDialects.dialect, test_size = 0.3, random_state = 0)\n"
   ]
  },
  {
   "cell_type": "code",
   "execution_count": 32,
   "metadata": {
    "colab": {
     "base_uri": "https://localhost:8080/"
    },
    "id": "tReSecAyPB3v",
    "outputId": "787f51e2-ad3e-40a8-cde4-81b1d93d0ed0"
   },
   "outputs": [
    {
     "name": "stdout",
     "output_type": "stream",
     "text": [
      "['ءرءتو' 'ءه' 'ءو' ... 'ﻻﻧﻪ' 'ﻻﻧﻬﺎ' 'ﻻﻫﺎﻥ']\n"
     ]
    }
   ],
   "source": [
    "from sklearn.metrics import confusion_matrix,accuracy_score, classification_report\n",
    "from sklearn.linear_model import LogisticRegression\n",
    "from sklearn.feature_extraction.text import CountVectorizer, TfidfVectorizer\n",
    "\n",
    "LR = LogisticRegression(max_iter=250)\n",
    "xtrain, xtest, ytrain, ytest = train_test_split(summarizedDialects.tweets, summarizedDialects.dialect, test_size = 0.3, random_state = 0)\n",
    "#first instantiate the tranformer, we use TfidfVectorizer in this case\n",
    "tfidf_vectorizer = TfidfVectorizer()\n",
    "#tokenize and build vocab\n",
    "tfidf_vectorizer.fit(xtrain)\n",
    "#transform the training data\n",
    "xtrain_tfidf = tfidf_vectorizer.transform(xtrain)\n",
    "#summarize\n",
    "print(tfidf_vectorizer.get_feature_names_out())"
   ]
  },
  {
   "cell_type": "code",
   "execution_count": 33,
   "metadata": {
    "colab": {
     "base_uri": "https://localhost:8080/"
    },
    "id": "ZngfjRoLP2cG",
    "outputId": "66a4aadb-712d-47cc-f3e2-78f27950fbdb"
   },
   "outputs": [
    {
     "name": "stderr",
     "output_type": "stream",
     "text": [
      "/Users/abdullahalturki/anaconda3/lib/python3.11/site-packages/sklearn/linear_model/_logistic.py:460: ConvergenceWarning: lbfgs failed to converge (status=1):\n",
      "STOP: TOTAL NO. of ITERATIONS REACHED LIMIT.\n",
      "\n",
      "Increase the number of iterations (max_iter) or scale the data as shown in:\n",
      "    https://scikit-learn.org/stable/modules/preprocessing.html\n",
      "Please also refer to the documentation for alternative solver options:\n",
      "    https://scikit-learn.org/stable/modules/linear_model.html#logistic-regression\n",
      "  n_iter_i = _check_optimize_result(\n"
     ]
    },
    {
     "name": "stdout",
     "output_type": "stream",
     "text": [
      "0.7376451021655013\n",
      "              precision    recall  f1-score   support\n",
      "\n",
      "       سعودي       0.63      0.57      0.60      8065\n",
      "      سوداني       0.87      0.52      0.65      4367\n",
      "        سوري       0.70      0.37      0.49      4770\n",
      "       كويتي       0.65      0.83      0.73     12602\n",
      "      لبناني       0.75      0.75      0.75      8425\n",
      "        مصري       0.80      0.93      0.86     17257\n",
      "       مغربي       0.91      0.61      0.73      3438\n",
      "\n",
      "    accuracy                           0.74     58924\n",
      "   macro avg       0.76      0.65      0.69     58924\n",
      "weighted avg       0.74      0.74      0.73     58924\n",
      "\n"
     ]
    }
   ],
   "source": [
    "#encode document\n",
    "X_train_tfidf = tfidf_vectorizer.transform(Xtrain)\n",
    "LR.fit( X_train_tfidf, ytrain)\n",
    "X_test_tfidf = tfidf_vectorizer.transform(Xtest)\n",
    "pred = LR.predict(X_test_tfidf)\n",
    "Log_acc = accuracy_score(ytest, pred)\n",
    "print(Log_acc)\n",
    "print(classification_report(ytest, pred))"
   ]
  },
  {
   "cell_type": "code",
   "execution_count": null,
   "metadata": {
    "id": "IkYiS2a9fGgN"
   },
   "outputs": [],
   "source": []
  },
  {
   "cell_type": "markdown",
   "metadata": {
    "id": "8qoj2vg3Msvw"
   },
   "source": [
    "# RNN-GRU\n",
    " It is easier to train and less prone to overfitting. GRU is a good choice for tasks that require the network to learn quickly and adapt to new inputs. In this case, the network is being trained to classify texts according to their dialect. This is a task that requires the network to learn long-range dependencies, which GRU is well-suited for."
   ]
  },
  {
   "cell_type": "code",
   "execution_count": 34,
   "metadata": {
    "id": "YTql3EXMAPDR"
   },
   "outputs": [
    {
     "name": "stdout",
     "output_type": "stream",
     "text": [
      "Total unique words present : 313104\n"
     ]
    }
   ],
   "source": [
    "#Extracts the voc_size\n",
    "def unq_words(sentence):\n",
    "    unq_words_list = []\n",
    "    for sent in (sentence):\n",
    "        for word in sent.split():\n",
    "            if word.lower() not in unq_words_list:\n",
    "                unq_words_list.append(word.lower())\n",
    "            else:\n",
    "                pass\n",
    "    return unq_words_list\n",
    "\n",
    "unique_words = unq_words(summarizedDialects.tweets)\n",
    "print(\"Total unique words present :\", len(unique_words))"
   ]
  },
  {
   "cell_type": "code",
   "execution_count": 35,
   "metadata": {
    "id": "uDWzaOKPAm0w"
   },
   "outputs": [
    {
     "data": {
      "text/plain": [
       "array([[294669, 255323,  96798, ...,      0,      0,      0],\n",
       "       [132110,  73661,  21337, ...,      0,      0,      0],\n",
       "       [104207, 202692,  69932, ...,      0,      0,      0],\n",
       "       ...,\n",
       "       [ 46140,  84078,  12981, ...,      0,      0,      0],\n",
       "       [233557, 135082, 124116, ...,      0,      0,      0],\n",
       "       [190721, 166488, 294615, ...,      0,      0,      0]], dtype=int32)"
      ]
     },
     "execution_count": 35,
     "metadata": {},
     "output_type": "execute_result"
    }
   ],
   "source": [
    "VOC_SIZE = 311678\n",
    "\n",
    "onehot_vector = [one_hot(words, VOC_SIZE) for words in summarizedDialects.tweets]\n",
    "SENTENCE_LENGTH = 67\n",
    "embedded_docs = pad_sequences(onehot_vector, padding=\"post\", maxlen=SENTENCE_LENGTH)\n",
    "embedded_docs"
   ]
  },
  {
   "cell_type": "code",
   "execution_count": 36,
   "metadata": {
    "id": "KXb1kBpjAfbv"
   },
   "outputs": [],
   "source": [
    "#splitting\n",
    "train_data, test_val_data, train_labels, test_val_labels = train_test_split(embedded_docs, summarizedDialects.dialect, test_size=0.2, random_state=42, stratify=summarizedDialects.dialect)\n",
    "val_data, test_data, val_labels, test_labels = train_test_split(test_val_data, test_val_labels, test_size=0.5, random_state=42, stratify=test_val_labels)\n",
    "\n"
   ]
  },
  {
   "cell_type": "code",
   "execution_count": 37,
   "metadata": {
    "id": "-bi3OqubBS4d"
   },
   "outputs": [],
   "source": [
    "from sklearn.preprocessing import LabelEncoder\n",
    "\n",
    "label_encoder = LabelEncoder()\n",
    "\n",
    "train_labels = label_encoder.fit_transform(train_labels)\n",
    "test_labels = label_encoder.fit_transform(test_labels)\n",
    "val_labels = label_encoder.fit_transform(val_labels)\n",
    "\n",
    "train_labels = tf.keras.utils.to_categorical(train_labels, num_classes=7)\n",
    "test_labels = tf.keras.utils.to_categorical(test_labels, num_classes=7)\n",
    "val_labels = tf.keras.utils.to_categorical(val_labels, num_classes=7)"
   ]
  },
  {
   "cell_type": "code",
   "execution_count": 38,
   "metadata": {
    "id": "cMGFczUzCsme"
   },
   "outputs": [
    {
     "name": "stdout",
     "output_type": "stream",
     "text": [
      "Epoch 1/10\n",
      "100/100 [==============================] - 157s 1s/step - loss: 0.3931 - accuracy: 0.3045 - val_loss: 0.3257 - val_accuracy: 0.4668\n",
      "Epoch 2/10\n",
      "100/100 [==============================] - 142s 1s/step - loss: 0.2843 - accuracy: 0.5292 - val_loss: 0.2562 - val_accuracy: 0.5766\n",
      "Epoch 3/10\n",
      "100/100 [==============================] - 143s 1s/step - loss: 0.2426 - accuracy: 0.6024 - val_loss: 0.2376 - val_accuracy: 0.6182\n",
      "Epoch 4/10\n",
      "100/100 [==============================] - 145s 1s/step - loss: 0.2222 - accuracy: 0.6468 - val_loss: 0.2309 - val_accuracy: 0.6337\n",
      "Epoch 5/10\n",
      "100/100 [==============================] - 146s 1s/step - loss: 0.2150 - accuracy: 0.6587 - val_loss: 0.2101 - val_accuracy: 0.6661\n",
      "Epoch 6/10\n",
      "100/100 [==============================] - 131s 1s/step - loss: 0.2061 - accuracy: 0.6785 - val_loss: 0.2058 - val_accuracy: 0.6797\n",
      "Epoch 7/10\n",
      "100/100 [==============================] - 152s 2s/step - loss: 0.2001 - accuracy: 0.6840 - val_loss: 0.2005 - val_accuracy: 0.6897\n",
      "Epoch 8/10\n",
      "100/100 [==============================] - 133s 1s/step - loss: 0.1904 - accuracy: 0.7048 - val_loss: 0.1969 - val_accuracy: 0.6957\n",
      "Epoch 9/10\n",
      "100/100 [==============================] - 141s 1s/step - loss: 0.1910 - accuracy: 0.7023 - val_loss: 0.1916 - val_accuracy: 0.7072\n",
      "Epoch 10/10\n",
      "100/100 [==============================] - 150s 1s/step - loss: 0.1862 - accuracy: 0.7111 - val_loss: 0.1887 - val_accuracy: 0.7113\n"
     ]
    }
   ],
   "source": [
    "VECTOR_FEATURES = 128\n",
    "\n",
    "gru_bi = tf.keras.models.Sequential([\n",
    "    tf.keras.layers.Embedding(VOC_SIZE, VECTOR_FEATURES),\n",
    "    tf.keras.layers.Bidirectional(tf.keras.layers.GRU(128, return_sequences=True)),\n",
    "    tf.keras.layers.Bidirectional(tf.keras.layers.GRU(128)),\n",
    "    tf.keras.layers.Dense(64, activation='relu'),\n",
    "    tf.keras.layers.Dense(7, activation='softmax')\n",
    "])\n",
    "gru_bi.compile(loss=tf.keras.losses.BinaryCrossentropy(),\n",
    "              optimizer=tf.keras.optimizers.Adam(),\n",
    "              metrics=['accuracy'])\n",
    "\n",
    "history = gru_bi.fit(train_data, train_labels, epochs=10, batch_size=128,\n",
    "                    steps_per_epoch= 100,\n",
    "                    validation_data=(val_data, val_labels),\n",
    "                    validation_steps=100)"
   ]
  },
  {
   "cell_type": "code",
   "execution_count": 39,
   "metadata": {
    "id": "SSpBWbDCDQPR"
   },
   "outputs": [
    {
     "name": "stdout",
     "output_type": "stream",
     "text": [
      "614/614 [==============================] - 36s 59ms/step - loss: 0.1858 - accuracy: 0.7173\n",
      "Test Loss: 0.18577367067337036\n",
      "Test Accuracy: 0.7172895073890686\n"
     ]
    }
   ],
   "source": [
    "model_acc, model_loss = gru_bi.evaluate(test_data, test_labels)\n",
    "\n",
    "print('Test Loss: {}'.format(model_acc))\n",
    "print('Test Accuracy: {}'.format(model_loss))\n"
   ]
  },
  {
   "cell_type": "code",
   "execution_count": 40,
   "metadata": {
    "id": "24brSGv3LiLB"
   },
   "outputs": [
    {
     "name": "stdout",
     "output_type": "stream",
     "text": [
      "614/614 [==============================] - 38s 57ms/step\n"
     ]
    }
   ],
   "source": [
    "preds_valid = gru_bi.predict(test_data)\n",
    "\n",
    "pred_labels = np.argmax(preds_valid, axis=-1)"
   ]
  },
  {
   "cell_type": "code",
   "execution_count": 41,
   "metadata": {
    "id": "UxxbkYfIL1dn"
   },
   "outputs": [
    {
     "name": "stdout",
     "output_type": "stream",
     "text": [
      "0.6666659871698862\n"
     ]
    }
   ],
   "source": [
    "# Convert predicted labels to multilabel-indicator format\n",
    "pred_labels = label_binarize(pred_labels, classes=np.arange(7))\n",
    "\n",
    "# Calculate F1 score\n",
    "f1_macro = f1_score(test_labels, pred_labels, average='macro')\n",
    "\n",
    "print(f1_macro)\n",
    "def predict(text, clf, word2idx, padding_size):\n",
    "    # padd the text\n",
    "    padded_text = np.zeros((padding_size))\n",
    "    # transform your text into indices\n",
    "    padded_text[:min(padding_size, len(text.split()))] = [\n",
    "        word_to_index.get(word, 0) for word in text.split()][:padding_size]\n",
    "    # predict it !\n",
    "    prediction = clf.predict(tf.expand_dims(padded_text, 0))\n",
    "    return prediction\n",
    "words = summarizedDialects['tweets'].apply(lambda x: text_to_word_sequence(x))\n",
    "\n",
    "word_to_index = {}\n",
    "for word_list in words:\n",
    "    for word in word_list:\n",
    "        if word not in word_to_index:\n",
    "            word_to_index[word] = len(word_to_index)"
   ]
  },
  {
   "cell_type": "code",
   "execution_count": 42,
   "metadata": {
    "id": "gY38yB__MDGm"
   },
   "outputs": [
    {
     "name": "stdout",
     "output_type": "stream",
     "text": [
      "1/1 [==============================] - 1s 1s/step\n",
      "سعودي\n"
     ]
    }
   ],
   "source": [
    "text= \" الجمهور يهال\"\n",
    "mapping = {'0':'سعودي',\n",
    "           '1':'سوداني',\n",
    "          '2':'سوري',\n",
    "          '3':'كويتي',\n",
    "          '4':'لبناني',\n",
    "          '5':'مصري',\n",
    "          '6':'مغربي'}\n",
    "\n",
    "rnn_padding = 50\n",
    "out_GRU = predict(text, gru_bi, word_to_index, rnn_padding)\n",
    "\n",
    "out_GRU = np.argmax(out_GRU)\n",
    "print(mapping[str(out_GRU)])"
   ]
  },
  {
   "cell_type": "markdown",
   "metadata": {
    "id": "_rek1_hRUiuq"
   },
   "source": [
    "# Compare Models"
   ]
  },
  {
   "cell_type": "code",
   "execution_count": 43,
   "metadata": {
    "id": "iZSCncWYUoEs"
   },
   "outputs": [],
   "source": [
    "from plotly import express as ex"
   ]
  },
  {
   "cell_type": "code",
   "execution_count": 44,
   "metadata": {
    "colab": {
     "base_uri": "https://localhost:8080/",
     "height": 564
    },
    "id": "OGToN2MAU187",
    "outputId": "d3c94164-28fa-4a0d-c924-c5961b4ed4c2"
   },
   "outputs": [
    {
     "data": {
      "image/png": "[encoded data removed]",
      "text/plain": [
       "<Figure size 1000x600 with 1 Axes>"
      ]
     },
     "metadata": {},
     "output_type": "display_data"
    }
   ],
   "source": [
    "import matplotlib.pyplot as plt\n",
    "\n",
    "models = ['LinearSVC', 'Logistic Regression', 'GRU-bi']\n",
    "accuracy = [76.0, 73.0, 71.0]\n",
    "\n",
    "plt.figure(figsize=(10, 6))\n",
    "plt.bar(models, accuracy, color='lightblue')\n",
    "plt.xlabel(\"Models\")\n",
    "plt.ylabel(\"Accuracy\")\n",
    "plt.title(\"Accuracy of Different Models\")\n",
    "plt.show()\n"
   ]
  },
  {
   "cell_type": "markdown",
   "metadata": {
    "id": "apqsl0r2Zdl-"
   },
   "source": [
    "# Model deployment"
   ]
  },
  {
   "cell_type": "code",
   "execution_count": 45,
   "metadata": {
    "id": "UPVSWpq28mhB"
   },
   "outputs": [],
   "source": [
    " !pip install pyTelegramBotAPI"
   ]
  },
  {
   "cell_type": "code",
   "execution_count": 27,
   "metadata": {
    "id": "btPsLp0M8mhC"
   },
   "outputs": [],
   "source": [
    "import pickle"
   ]
  },
  {
   "cell_type": "code",
   "execution_count": 28,
   "metadata": {
    "id": "k1hfzQoG8mhC"
   },
   "outputs": [],
   "source": [
    "with open(\"pipeline.pkl\", \"wb\") as f:\n",
    "    pickle.dump(deployment_pipeline,f)"
   ]
  },
  {
   "cell_type": "code",
   "execution_count": 29,
   "metadata": {
    "id": "3gyp-RKm8mhC"
   },
   "outputs": [],
   "source": [
    "f.close()"
   ]
  },
  {
   "cell_type": "code",
   "execution_count": 30,
   "metadata": {
    "id": "PinKGwit8mhC"
   },
   "outputs": [],
   "source": [
    "with open(\"pipeline.pkl\", \"rb\") as f:\n",
    "  pipe_tfidf = pickle.load(f)"
   ]
  },
  {
   "cell_type": "code",
   "execution_count": 50,
   "metadata": {
    "colab": {
     "base_uri": "https://localhost:8080/"
    },
    "id": "f1glbDn58mhD",
    "outputId": "0d14f388-f329-4616-d0c8-3f0c70fb6c00"
   },
   "outputs": [
    {
     "name": "stdout",
     "output_type": "stream",
     "text": [
      "Collecting python-telegram-bot\n",
      "  Obtaining dependency information for python-telegram-bot from https://files.pythonhosted.org/packages/c7/db/0b711b0f38085f41f8382e1e3409627e9f355bc9d9a63126407adc40101c/python_telegram_bot-20.5-py3-none-any.whl.metadata\n",
      "  Downloading python_telegram_bot-20.5-py3-none-any.whl.metadata (15 kB)\n",
      "Collecting httpx~=0.24.1 (from python-telegram-bot)\n",
      "  Obtaining dependency information for httpx~=0.24.1 from https://files.pythonhosted.org/packages/ec/91/e41f64f03d2a13aee7e8c819d82ee3aa7cdc484d18c0ae859742597d5aa0/httpx-0.24.1-py3-none-any.whl.metadata\n",
      "  Downloading httpx-0.24.1-py3-none-any.whl.metadata (7.4 kB)\n",
      "Requirement already satisfied: certifi in /Users/abdullahalturki/anaconda3/lib/python3.11/site-packages (from httpx~=0.24.1->python-telegram-bot) (2023.7.22)\n",
      "Collecting httpcore<0.18.0,>=0.15.0 (from httpx~=0.24.1->python-telegram-bot)\n",
      "  Obtaining dependency information for httpcore<0.18.0,>=0.15.0 from https://files.pythonhosted.org/packages/94/2c/2bde7ff8dd2064395555220cbf7cba79991172bf5315a07eb3ac7688d9f1/httpcore-0.17.3-py3-none-any.whl.metadata\n",
      "  Downloading httpcore-0.17.3-py3-none-any.whl.metadata (18 kB)\n",
      "Requirement already satisfied: idna in /Users/abdullahalturki/anaconda3/lib/python3.11/site-packages (from httpx~=0.24.1->python-telegram-bot) (3.4)\n",
      "Requirement already satisfied: sniffio in /Users/abdullahalturki/anaconda3/lib/python3.11/site-packages (from httpx~=0.24.1->python-telegram-bot) (1.2.0)\n",
      "Collecting h11<0.15,>=0.13 (from httpcore<0.18.0,>=0.15.0->httpx~=0.24.1->python-telegram-bot)\n",
      "  Downloading h11-0.14.0-py3-none-any.whl (58 kB)\n",
      "\u001b[2K     \u001b[90m━━━━━━━━━━━━━━━━━━━━━━━━━━━━━━━━━━━━━━━\u001b[0m \u001b[32m58.3/58.3 kB\u001b[0m \u001b[31m266.8 kB/s\u001b[0m eta \u001b[36m0:00:00\u001b[0ma \u001b[36m0:00:01\u001b[0m\n",
      "\u001b[?25hRequirement already satisfied: anyio<5.0,>=3.0 in /Users/abdullahalturki/anaconda3/lib/python3.11/site-packages (from httpcore<0.18.0,>=0.15.0->httpx~=0.24.1->python-telegram-bot) (3.5.0)\n",
      "Downloading python_telegram_bot-20.5-py3-none-any.whl (544 kB)\n",
      "\u001b[2K   \u001b[90m━━━━━━━━━━━━━━━━━━━━━━━━━━━━━━━━━━━━━━━━\u001b[0m \u001b[32m544.8/544.8 kB\u001b[0m \u001b[31m1.3 MB/s\u001b[0m eta \u001b[36m0:00:00\u001b[0ma \u001b[36m0:00:01\u001b[0mm\n",
      "\u001b[?25hDownloading httpx-0.24.1-py3-none-any.whl (75 kB)\n",
      "\u001b[2K   \u001b[90m━━━━━━━━━━━━━━━━━━━━━━━━━━━━━━━━━━━━━━━━\u001b[0m \u001b[32m75.4/75.4 kB\u001b[0m \u001b[31m1.3 MB/s\u001b[0m eta \u001b[36m0:00:00\u001b[0ma \u001b[36m0:00:01\u001b[0m\n",
      "\u001b[?25hDownloading httpcore-0.17.3-py3-none-any.whl (74 kB)\n",
      "\u001b[2K   \u001b[90m━━━━━━━━━━━━━━━━━━━━━━━━━━━━━━━━━━━━━━━━\u001b[0m \u001b[32m74.5/74.5 kB\u001b[0m \u001b[31m1.3 MB/s\u001b[0m eta \u001b[36m0:00:00\u001b[0ma \u001b[36m0:00:01\u001b[0m\n",
      "\u001b[?25hInstalling collected packages: h11, httpcore, httpx, python-telegram-bot\n",
      "Successfully installed h11-0.14.0 httpcore-0.17.3 httpx-0.24.1 python-telegram-bot-20.5\n"
     ]
    }
   ],
   "source": [
    "!pip install --upgrade python-telegram-bot"
   ]
  },
  {
   "cell_type": "code",
   "execution_count": 51,
   "metadata": {
    "colab": {
     "base_uri": "https://localhost:8080/"
    },
    "id": "4J8JnZSLOyFa",
    "outputId": "5e4a886e-d976-40cf-ee04-595b6b959969"
   },
   "outputs": [
    {
     "name": "stdout",
     "output_type": "stream",
     "text": [
      "Collecting telebot\n",
      "  Downloading telebot-0.0.5-py3-none-any.whl (4.8 kB)\n",
      "Collecting pyTelegramBotAPI (from telebot)\n",
      "  Downloading pyTelegramBotAPI-4.13.0.tar.gz (232 kB)\n",
      "\u001b[2K     \u001b[90m━━━━━━━━━━━━━━━━━━━━━━━━━━━━━━━━━━━━━\u001b[0m \u001b[32m232.8/232.8 kB\u001b[0m \u001b[31m597.5 kB/s\u001b[0m eta \u001b[36m0:00:00\u001b[0ma \u001b[36m0:00:01\u001b[0m\n",
      "\u001b[?25h  Preparing metadata (setup.py) ... \u001b[?25ldone\n",
      "\u001b[?25hRequirement already satisfied: requests in /Users/abdullahalturki/anaconda3/lib/python3.11/site-packages (from telebot) (2.31.0)\n",
      "Requirement already satisfied: charset-normalizer<4,>=2 in /Users/abdullahalturki/anaconda3/lib/python3.11/site-packages (from requests->telebot) (2.0.4)\n",
      "Requirement already satisfied: idna<4,>=2.5 in /Users/abdullahalturki/anaconda3/lib/python3.11/site-packages (from requests->telebot) (3.4)\n",
      "Requirement already satisfied: urllib3<3,>=1.21.1 in /Users/abdullahalturki/anaconda3/lib/python3.11/site-packages (from requests->telebot) (1.26.16)\n",
      "Requirement already satisfied: certifi>=2017.4.17 in /Users/abdullahalturki/anaconda3/lib/python3.11/site-packages (from requests->telebot) (2023.7.22)\n",
      "Building wheels for collected packages: pyTelegramBotAPI\n",
      "  Building wheel for pyTelegramBotAPI (setup.py) ... \u001b[?25ldone\n",
      "\u001b[?25h  Created wheel for pyTelegramBotAPI: filename=pyTelegramBotAPI-4.13.0-py3-none-any.whl size=214531 sha256=279231e87d84344517e1e49a7c96864695676a04e7a2237225894ad4d882869b\n",
      "  Stored in directory: /Users/abdullahalturki/Library/Caches/pip/wheels/cd/b7/77/f583f74801e9b9d09917ac87c87dde50ef6f78226eb3a5e25a\n",
      "Successfully built pyTelegramBotAPI\n",
      "Installing collected packages: pyTelegramBotAPI, telebot\n",
      "Successfully installed pyTelegramBotAPI-4.13.0 telebot-0.0.5\n"
     ]
    }
   ],
   "source": [
    "!pip install telebot"
   ]
  },
  {
   "cell_type": "code",
   "execution_count": 31,
   "metadata": {
    "id": "un5FrGSG8mhD"
   },
   "outputs": [],
   "source": [
    "import telebot\n",
    "BOT_TOKEN = '6572809263:AAGRihXPMgo-onH7a-A62ba7InRuT9OSVfY'\n",
    "bot = telebot.TeleBot(BOT_TOKEN)"
   ]
  },
  {
   "cell_type": "code",
   "execution_count": null,
   "metadata": {
    "colab": {
     "base_uri": "https://localhost:8080/"
    },
    "id": "F9QNgWYm8mhD",
    "outputId": "4297810d-0a47-47c6-ca59-84eb40d03145"
   },
   "outputs": [],
   "source": [
    "@bot.message_handler(commands=['start', 'hello'])\n",
    "def send_welcome(message):\n",
    "    bot.reply_to(message, \"اهلا, من فضلك ادخل النص المراد التعرف على اللهجة الخاصة به\")\n",
    "\n",
    "\n",
    "\n",
    "\n",
    "@bot.message_handler(content_types=['text'])\n",
    "def predict_dialect(message):\n",
    "  text = message.text\n",
    "  # text = [preprocessing.processing(x) for x in text]\n",
    "  y_pred = pipe_tfidf.predict([text])\n",
    "  for i in range(len(y_pred)):\n",
    "    if message.chat.id:\n",
    "      bot.reply_to(message, f'{text} --> {y_pred[i]}')\n",
    "bot.infinity_polling()"
   ]
  },
  {
   "cell_type": "code",
   "execution_count": null,
   "metadata": {},
   "outputs": [],
   "source": []
  }
 ],
 "metadata": {
  "accelerator": "GPU",
  "colab": {
   "provenance": []
  },
  "kernelspec": {
   "display_name": "Python 3 (ipykernel)",
   "language": "python",
   "name": "python3"
  },
  "language_info": {
   "codemirror_mode": {
    "name": "ipython",
    "version": 3
   },
   "file_extension": ".py",
   "mimetype": "text/x-python",
   "name": "python",
   "nbconvert_exporter": "python",
   "pygments_lexer": "ipython3",
   "version": "3.11.4"
  }
 },
 "nbformat": 4,
 "nbformat_minor": 1
}
